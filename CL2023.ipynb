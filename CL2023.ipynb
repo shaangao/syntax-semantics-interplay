{
  "nbformat": 4,
  "nbformat_minor": 0,
  "metadata": {
    "colab": {
      "provenance": []
    },
    "kernelspec": {
      "name": "python3",
      "display_name": "Python 3"
    },
    "language_info": {
      "name": "python"
    }
  },
  "cells": [
    {
      "cell_type": "markdown",
      "source": [
        "## Load Data"
      ],
      "metadata": {
        "id": "trNlG8QsDrbk"
      }
    },
    {
      "cell_type": "code",
      "source": [
        "import pandas as pd\n",
        "import numpy as np\n",
        "import statistics"
      ],
      "metadata": {
        "id": "jvV8gGqMyYKO"
      },
      "execution_count": null,
      "outputs": []
    },
    {
      "cell_type": "code",
      "source": [
        "filename = 'CL_sentence_v3.xlsx'\n",
        "#filename = '/CL_sentences.xlsx'\n",
        "data = pd.read_excel(filename, header=0)\n",
        "data.head()"
      ],
      "metadata": {
        "colab": {
          "base_uri": "https://localhost:8080/",
          "height": 206
        },
        "id": "5Kv8t2h7Du6y",
        "outputId": "5d0ea563-4f53-48ad-a307-e80143085409"
      },
      "execution_count": null,
      "outputs": [
        {
          "output_type": "execute_result",
          "data": {
            "text/plain": [
              "   item  condition subject   VC  CL  BEI embedded_N RC_verb DE target_N  \\\n",
              "0     1          1      小美  移开了  那只    被         足球      打碎  的       花瓶   \n",
              "1     1          2      小美  移开了  那只  NaN         足球      打碎  的       花瓶   \n",
              "2     1          3      小美  移开了  那扇    被         足球      打碎  的       窗户   \n",
              "3     1          4      小美  移开了  那扇  NaN         足球      打碎  的       窗户   \n",
              "4     2          1      小美   扔了  那只    被          狗      咬坏  的        球   \n",
              "\n",
              "   has_BEI  is_match search_noun  \n",
              "0        1         1        足球，球  \n",
              "1        0         1        足球，球  \n",
              "2        1         0        足球，球  \n",
              "3        0         0        足球，球  \n",
              "4        1         1           狗  "
            ],
            "text/html": [
              "\n",
              "  <div id=\"df-2ecaaffb-b61a-4e3b-be0e-2a224fb896b3\">\n",
              "    <div class=\"colab-df-container\">\n",
              "      <div>\n",
              "<style scoped>\n",
              "    .dataframe tbody tr th:only-of-type {\n",
              "        vertical-align: middle;\n",
              "    }\n",
              "\n",
              "    .dataframe tbody tr th {\n",
              "        vertical-align: top;\n",
              "    }\n",
              "\n",
              "    .dataframe thead th {\n",
              "        text-align: right;\n",
              "    }\n",
              "</style>\n",
              "<table border=\"1\" class=\"dataframe\">\n",
              "  <thead>\n",
              "    <tr style=\"text-align: right;\">\n",
              "      <th></th>\n",
              "      <th>item</th>\n",
              "      <th>condition</th>\n",
              "      <th>subject</th>\n",
              "      <th>VC</th>\n",
              "      <th>CL</th>\n",
              "      <th>BEI</th>\n",
              "      <th>embedded_N</th>\n",
              "      <th>RC_verb</th>\n",
              "      <th>DE</th>\n",
              "      <th>target_N</th>\n",
              "      <th>has_BEI</th>\n",
              "      <th>is_match</th>\n",
              "      <th>search_noun</th>\n",
              "    </tr>\n",
              "  </thead>\n",
              "  <tbody>\n",
              "    <tr>\n",
              "      <th>0</th>\n",
              "      <td>1</td>\n",
              "      <td>1</td>\n",
              "      <td>小美</td>\n",
              "      <td>移开了</td>\n",
              "      <td>那只</td>\n",
              "      <td>被</td>\n",
              "      <td>足球</td>\n",
              "      <td>打碎</td>\n",
              "      <td>的</td>\n",
              "      <td>花瓶</td>\n",
              "      <td>1</td>\n",
              "      <td>1</td>\n",
              "      <td>足球，球</td>\n",
              "    </tr>\n",
              "    <tr>\n",
              "      <th>1</th>\n",
              "      <td>1</td>\n",
              "      <td>2</td>\n",
              "      <td>小美</td>\n",
              "      <td>移开了</td>\n",
              "      <td>那只</td>\n",
              "      <td>NaN</td>\n",
              "      <td>足球</td>\n",
              "      <td>打碎</td>\n",
              "      <td>的</td>\n",
              "      <td>花瓶</td>\n",
              "      <td>0</td>\n",
              "      <td>1</td>\n",
              "      <td>足球，球</td>\n",
              "    </tr>\n",
              "    <tr>\n",
              "      <th>2</th>\n",
              "      <td>1</td>\n",
              "      <td>3</td>\n",
              "      <td>小美</td>\n",
              "      <td>移开了</td>\n",
              "      <td>那扇</td>\n",
              "      <td>被</td>\n",
              "      <td>足球</td>\n",
              "      <td>打碎</td>\n",
              "      <td>的</td>\n",
              "      <td>窗户</td>\n",
              "      <td>1</td>\n",
              "      <td>0</td>\n",
              "      <td>足球，球</td>\n",
              "    </tr>\n",
              "    <tr>\n",
              "      <th>3</th>\n",
              "      <td>1</td>\n",
              "      <td>4</td>\n",
              "      <td>小美</td>\n",
              "      <td>移开了</td>\n",
              "      <td>那扇</td>\n",
              "      <td>NaN</td>\n",
              "      <td>足球</td>\n",
              "      <td>打碎</td>\n",
              "      <td>的</td>\n",
              "      <td>窗户</td>\n",
              "      <td>0</td>\n",
              "      <td>0</td>\n",
              "      <td>足球，球</td>\n",
              "    </tr>\n",
              "    <tr>\n",
              "      <th>4</th>\n",
              "      <td>2</td>\n",
              "      <td>1</td>\n",
              "      <td>小美</td>\n",
              "      <td>扔了</td>\n",
              "      <td>那只</td>\n",
              "      <td>被</td>\n",
              "      <td>狗</td>\n",
              "      <td>咬坏</td>\n",
              "      <td>的</td>\n",
              "      <td>球</td>\n",
              "      <td>1</td>\n",
              "      <td>1</td>\n",
              "      <td>狗</td>\n",
              "    </tr>\n",
              "  </tbody>\n",
              "</table>\n",
              "</div>\n",
              "      <button class=\"colab-df-convert\" onclick=\"convertToInteractive('df-2ecaaffb-b61a-4e3b-be0e-2a224fb896b3')\"\n",
              "              title=\"Convert this dataframe to an interactive table.\"\n",
              "              style=\"display:none;\">\n",
              "        \n",
              "  <svg xmlns=\"http://www.w3.org/2000/svg\" height=\"24px\"viewBox=\"0 0 24 24\"\n",
              "       width=\"24px\">\n",
              "    <path d=\"M0 0h24v24H0V0z\" fill=\"none\"/>\n",
              "    <path d=\"M18.56 5.44l.94 2.06.94-2.06 2.06-.94-2.06-.94-.94-2.06-.94 2.06-2.06.94zm-11 1L8.5 8.5l.94-2.06 2.06-.94-2.06-.94L8.5 2.5l-.94 2.06-2.06.94zm10 10l.94 2.06.94-2.06 2.06-.94-2.06-.94-.94-2.06-.94 2.06-2.06.94z\"/><path d=\"M17.41 7.96l-1.37-1.37c-.4-.4-.92-.59-1.43-.59-.52 0-1.04.2-1.43.59L10.3 9.45l-7.72 7.72c-.78.78-.78 2.05 0 2.83L4 21.41c.39.39.9.59 1.41.59.51 0 1.02-.2 1.41-.59l7.78-7.78 2.81-2.81c.8-.78.8-2.07 0-2.86zM5.41 20L4 18.59l7.72-7.72 1.47 1.35L5.41 20z\"/>\n",
              "  </svg>\n",
              "      </button>\n",
              "      \n",
              "  <style>\n",
              "    .colab-df-container {\n",
              "      display:flex;\n",
              "      flex-wrap:wrap;\n",
              "      gap: 12px;\n",
              "    }\n",
              "\n",
              "    .colab-df-convert {\n",
              "      background-color: #E8F0FE;\n",
              "      border: none;\n",
              "      border-radius: 50%;\n",
              "      cursor: pointer;\n",
              "      display: none;\n",
              "      fill: #1967D2;\n",
              "      height: 32px;\n",
              "      padding: 0 0 0 0;\n",
              "      width: 32px;\n",
              "    }\n",
              "\n",
              "    .colab-df-convert:hover {\n",
              "      background-color: #E2EBFA;\n",
              "      box-shadow: 0px 1px 2px rgba(60, 64, 67, 0.3), 0px 1px 3px 1px rgba(60, 64, 67, 0.15);\n",
              "      fill: #174EA6;\n",
              "    }\n",
              "\n",
              "    [theme=dark] .colab-df-convert {\n",
              "      background-color: #3B4455;\n",
              "      fill: #D2E3FC;\n",
              "    }\n",
              "\n",
              "    [theme=dark] .colab-df-convert:hover {\n",
              "      background-color: #434B5C;\n",
              "      box-shadow: 0px 1px 3px 1px rgba(0, 0, 0, 0.15);\n",
              "      filter: drop-shadow(0px 1px 2px rgba(0, 0, 0, 0.3));\n",
              "      fill: #FFFFFF;\n",
              "    }\n",
              "  </style>\n",
              "\n",
              "      <script>\n",
              "        const buttonEl =\n",
              "          document.querySelector('#df-2ecaaffb-b61a-4e3b-be0e-2a224fb896b3 button.colab-df-convert');\n",
              "        buttonEl.style.display =\n",
              "          google.colab.kernel.accessAllowed ? 'block' : 'none';\n",
              "\n",
              "        async function convertToInteractive(key) {\n",
              "          const element = document.querySelector('#df-2ecaaffb-b61a-4e3b-be0e-2a224fb896b3');\n",
              "          const dataTable =\n",
              "            await google.colab.kernel.invokeFunction('convertToInteractive',\n",
              "                                                     [key], {});\n",
              "          if (!dataTable) return;\n",
              "\n",
              "          const docLinkHtml = 'Like what you see? Visit the ' +\n",
              "            '<a target=\"_blank\" href=https://colab.research.google.com/notebooks/data_table.ipynb>data table notebook</a>'\n",
              "            + ' to learn more about interactive tables.';\n",
              "          element.innerHTML = '';\n",
              "          dataTable['output_type'] = 'display_data';\n",
              "          await google.colab.output.renderOutput(dataTable, element);\n",
              "          const docLink = document.createElement('div');\n",
              "          docLink.innerHTML = docLinkHtml;\n",
              "          element.appendChild(docLink);\n",
              "        }\n",
              "      </script>\n",
              "    </div>\n",
              "  </div>\n",
              "  "
            ]
          },
          "metadata": {},
          "execution_count": 28
        }
      ]
    },
    {
      "cell_type": "code",
      "source": [
        "# fill NaN in BEI column with nothing to form the \n",
        "df = data.fillna(\"\")\n",
        "cols = ['subject', 'VC', 'CL', 'BEI', 'embedded_N']\n",
        "df['sent'] = df[cols].apply(lambda x: \"\".join(x), axis=1)\n",
        "df.head()"
      ],
      "metadata": {
        "colab": {
          "base_uri": "https://localhost:8080/",
          "height": 337
        },
        "id": "V44l9MCuFh2O",
        "outputId": "cb062ead-d07b-499c-e77b-33217ad5e1c8"
      },
      "execution_count": null,
      "outputs": [
        {
          "output_type": "execute_result",
          "data": {
            "text/plain": [
              "   item  condition subject   VC  CL BEI embedded_N RC_verb DE target_N  \\\n",
              "0     1          1      小美  移开了  那只   被         足球      打碎  的       花瓶   \n",
              "1     1          2      小美  移开了  那只             足球      打碎  的       花瓶   \n",
              "2     1          3      小美  移开了  那扇   被         足球      打碎  的       窗户   \n",
              "3     1          4      小美  移开了  那扇             足球      打碎  的       窗户   \n",
              "4     2          1      小美   扔了  那只   被          狗      咬坏  的        球   \n",
              "\n",
              "   has_BEI  is_match search_noun        sent  \n",
              "0        1         1        足球，球  小美移开了那只被足球  \n",
              "1        0         1        足球，球   小美移开了那只足球  \n",
              "2        1         0        足球，球  小美移开了那扇被足球  \n",
              "3        0         0        足球，球   小美移开了那扇足球  \n",
              "4        1         1           狗    小美扔了那只被狗  "
            ],
            "text/html": [
              "\n",
              "  <div id=\"df-ab701ab7-1778-4f6c-b7b2-53de9e29a139\">\n",
              "    <div class=\"colab-df-container\">\n",
              "      <div>\n",
              "<style scoped>\n",
              "    .dataframe tbody tr th:only-of-type {\n",
              "        vertical-align: middle;\n",
              "    }\n",
              "\n",
              "    .dataframe tbody tr th {\n",
              "        vertical-align: top;\n",
              "    }\n",
              "\n",
              "    .dataframe thead th {\n",
              "        text-align: right;\n",
              "    }\n",
              "</style>\n",
              "<table border=\"1\" class=\"dataframe\">\n",
              "  <thead>\n",
              "    <tr style=\"text-align: right;\">\n",
              "      <th></th>\n",
              "      <th>item</th>\n",
              "      <th>condition</th>\n",
              "      <th>subject</th>\n",
              "      <th>VC</th>\n",
              "      <th>CL</th>\n",
              "      <th>BEI</th>\n",
              "      <th>embedded_N</th>\n",
              "      <th>RC_verb</th>\n",
              "      <th>DE</th>\n",
              "      <th>target_N</th>\n",
              "      <th>has_BEI</th>\n",
              "      <th>is_match</th>\n",
              "      <th>search_noun</th>\n",
              "      <th>sent</th>\n",
              "    </tr>\n",
              "  </thead>\n",
              "  <tbody>\n",
              "    <tr>\n",
              "      <th>0</th>\n",
              "      <td>1</td>\n",
              "      <td>1</td>\n",
              "      <td>小美</td>\n",
              "      <td>移开了</td>\n",
              "      <td>那只</td>\n",
              "      <td>被</td>\n",
              "      <td>足球</td>\n",
              "      <td>打碎</td>\n",
              "      <td>的</td>\n",
              "      <td>花瓶</td>\n",
              "      <td>1</td>\n",
              "      <td>1</td>\n",
              "      <td>足球，球</td>\n",
              "      <td>小美移开了那只被足球</td>\n",
              "    </tr>\n",
              "    <tr>\n",
              "      <th>1</th>\n",
              "      <td>1</td>\n",
              "      <td>2</td>\n",
              "      <td>小美</td>\n",
              "      <td>移开了</td>\n",
              "      <td>那只</td>\n",
              "      <td></td>\n",
              "      <td>足球</td>\n",
              "      <td>打碎</td>\n",
              "      <td>的</td>\n",
              "      <td>花瓶</td>\n",
              "      <td>0</td>\n",
              "      <td>1</td>\n",
              "      <td>足球，球</td>\n",
              "      <td>小美移开了那只足球</td>\n",
              "    </tr>\n",
              "    <tr>\n",
              "      <th>2</th>\n",
              "      <td>1</td>\n",
              "      <td>3</td>\n",
              "      <td>小美</td>\n",
              "      <td>移开了</td>\n",
              "      <td>那扇</td>\n",
              "      <td>被</td>\n",
              "      <td>足球</td>\n",
              "      <td>打碎</td>\n",
              "      <td>的</td>\n",
              "      <td>窗户</td>\n",
              "      <td>1</td>\n",
              "      <td>0</td>\n",
              "      <td>足球，球</td>\n",
              "      <td>小美移开了那扇被足球</td>\n",
              "    </tr>\n",
              "    <tr>\n",
              "      <th>3</th>\n",
              "      <td>1</td>\n",
              "      <td>4</td>\n",
              "      <td>小美</td>\n",
              "      <td>移开了</td>\n",
              "      <td>那扇</td>\n",
              "      <td></td>\n",
              "      <td>足球</td>\n",
              "      <td>打碎</td>\n",
              "      <td>的</td>\n",
              "      <td>窗户</td>\n",
              "      <td>0</td>\n",
              "      <td>0</td>\n",
              "      <td>足球，球</td>\n",
              "      <td>小美移开了那扇足球</td>\n",
              "    </tr>\n",
              "    <tr>\n",
              "      <th>4</th>\n",
              "      <td>2</td>\n",
              "      <td>1</td>\n",
              "      <td>小美</td>\n",
              "      <td>扔了</td>\n",
              "      <td>那只</td>\n",
              "      <td>被</td>\n",
              "      <td>狗</td>\n",
              "      <td>咬坏</td>\n",
              "      <td>的</td>\n",
              "      <td>球</td>\n",
              "      <td>1</td>\n",
              "      <td>1</td>\n",
              "      <td>狗</td>\n",
              "      <td>小美扔了那只被狗</td>\n",
              "    </tr>\n",
              "  </tbody>\n",
              "</table>\n",
              "</div>\n",
              "      <button class=\"colab-df-convert\" onclick=\"convertToInteractive('df-ab701ab7-1778-4f6c-b7b2-53de9e29a139')\"\n",
              "              title=\"Convert this dataframe to an interactive table.\"\n",
              "              style=\"display:none;\">\n",
              "        \n",
              "  <svg xmlns=\"http://www.w3.org/2000/svg\" height=\"24px\"viewBox=\"0 0 24 24\"\n",
              "       width=\"24px\">\n",
              "    <path d=\"M0 0h24v24H0V0z\" fill=\"none\"/>\n",
              "    <path d=\"M18.56 5.44l.94 2.06.94-2.06 2.06-.94-2.06-.94-.94-2.06-.94 2.06-2.06.94zm-11 1L8.5 8.5l.94-2.06 2.06-.94-2.06-.94L8.5 2.5l-.94 2.06-2.06.94zm10 10l.94 2.06.94-2.06 2.06-.94-2.06-.94-.94-2.06-.94 2.06-2.06.94z\"/><path d=\"M17.41 7.96l-1.37-1.37c-.4-.4-.92-.59-1.43-.59-.52 0-1.04.2-1.43.59L10.3 9.45l-7.72 7.72c-.78.78-.78 2.05 0 2.83L4 21.41c.39.39.9.59 1.41.59.51 0 1.02-.2 1.41-.59l7.78-7.78 2.81-2.81c.8-.78.8-2.07 0-2.86zM5.41 20L4 18.59l7.72-7.72 1.47 1.35L5.41 20z\"/>\n",
              "  </svg>\n",
              "      </button>\n",
              "      \n",
              "  <style>\n",
              "    .colab-df-container {\n",
              "      display:flex;\n",
              "      flex-wrap:wrap;\n",
              "      gap: 12px;\n",
              "    }\n",
              "\n",
              "    .colab-df-convert {\n",
              "      background-color: #E8F0FE;\n",
              "      border: none;\n",
              "      border-radius: 50%;\n",
              "      cursor: pointer;\n",
              "      display: none;\n",
              "      fill: #1967D2;\n",
              "      height: 32px;\n",
              "      padding: 0 0 0 0;\n",
              "      width: 32px;\n",
              "    }\n",
              "\n",
              "    .colab-df-convert:hover {\n",
              "      background-color: #E2EBFA;\n",
              "      box-shadow: 0px 1px 2px rgba(60, 64, 67, 0.3), 0px 1px 3px 1px rgba(60, 64, 67, 0.15);\n",
              "      fill: #174EA6;\n",
              "    }\n",
              "\n",
              "    [theme=dark] .colab-df-convert {\n",
              "      background-color: #3B4455;\n",
              "      fill: #D2E3FC;\n",
              "    }\n",
              "\n",
              "    [theme=dark] .colab-df-convert:hover {\n",
              "      background-color: #434B5C;\n",
              "      box-shadow: 0px 1px 3px 1px rgba(0, 0, 0, 0.15);\n",
              "      filter: drop-shadow(0px 1px 2px rgba(0, 0, 0, 0.3));\n",
              "      fill: #FFFFFF;\n",
              "    }\n",
              "  </style>\n",
              "\n",
              "      <script>\n",
              "        const buttonEl =\n",
              "          document.querySelector('#df-ab701ab7-1778-4f6c-b7b2-53de9e29a139 button.colab-df-convert');\n",
              "        buttonEl.style.display =\n",
              "          google.colab.kernel.accessAllowed ? 'block' : 'none';\n",
              "\n",
              "        async function convertToInteractive(key) {\n",
              "          const element = document.querySelector('#df-ab701ab7-1778-4f6c-b7b2-53de9e29a139');\n",
              "          const dataTable =\n",
              "            await google.colab.kernel.invokeFunction('convertToInteractive',\n",
              "                                                     [key], {});\n",
              "          if (!dataTable) return;\n",
              "\n",
              "          const docLinkHtml = 'Like what you see? Visit the ' +\n",
              "            '<a target=\"_blank\" href=https://colab.research.google.com/notebooks/data_table.ipynb>data table notebook</a>'\n",
              "            + ' to learn more about interactive tables.';\n",
              "          element.innerHTML = '';\n",
              "          dataTable['output_type'] = 'display_data';\n",
              "          await google.colab.output.renderOutput(dataTable, element);\n",
              "          const docLink = document.createElement('div');\n",
              "          docLink.innerHTML = docLinkHtml;\n",
              "          element.appendChild(docLink);\n",
              "        }\n",
              "      </script>\n",
              "    </div>\n",
              "  </div>\n",
              "  "
            ]
          },
          "metadata": {},
          "execution_count": 29
        }
      ]
    },
    {
      "cell_type": "markdown",
      "source": [
        "## Load Language Models"
      ],
      "metadata": {
        "id": "4evKyujRDgoV"
      }
    },
    {
      "cell_type": "code",
      "source": [
        "!pip install transformers\n",
        "!pip install -U ckip-transformers  "
      ],
      "metadata": {
        "id": "E-cZFfS2DptL",
        "colab": {
          "base_uri": "https://localhost:8080/"
        },
        "outputId": "d8ae23fd-10bc-490a-9e91-38c506ef9fc5"
      },
      "execution_count": null,
      "outputs": [
        {
          "output_type": "stream",
          "name": "stdout",
          "text": [
            "Looking in indexes: https://pypi.org/simple, https://us-python.pkg.dev/colab-wheels/public/simple/\n",
            "Requirement already satisfied: transformers in /usr/local/lib/python3.9/dist-packages (4.26.1)\n",
            "Requirement already satisfied: tqdm>=4.27 in /usr/local/lib/python3.9/dist-packages (from transformers) (4.65.0)\n",
            "Requirement already satisfied: tokenizers!=0.11.3,<0.14,>=0.11.1 in /usr/local/lib/python3.9/dist-packages (from transformers) (0.13.2)\n",
            "Requirement already satisfied: regex!=2019.12.17 in /usr/local/lib/python3.9/dist-packages (from transformers) (2022.6.2)\n",
            "Requirement already satisfied: filelock in /usr/local/lib/python3.9/dist-packages (from transformers) (3.9.0)\n",
            "Requirement already satisfied: packaging>=20.0 in /usr/local/lib/python3.9/dist-packages (from transformers) (23.0)\n",
            "Requirement already satisfied: huggingface-hub<1.0,>=0.11.0 in /usr/local/lib/python3.9/dist-packages (from transformers) (0.13.1)\n",
            "Requirement already satisfied: pyyaml>=5.1 in /usr/local/lib/python3.9/dist-packages (from transformers) (6.0)\n",
            "Requirement already satisfied: numpy>=1.17 in /usr/local/lib/python3.9/dist-packages (from transformers) (1.22.4)\n",
            "Requirement already satisfied: requests in /usr/local/lib/python3.9/dist-packages (from transformers) (2.25.1)\n",
            "Requirement already satisfied: typing-extensions>=3.7.4.3 in /usr/local/lib/python3.9/dist-packages (from huggingface-hub<1.0,>=0.11.0->transformers) (4.5.0)\n",
            "Requirement already satisfied: chardet<5,>=3.0.2 in /usr/local/lib/python3.9/dist-packages (from requests->transformers) (4.0.0)\n",
            "Requirement already satisfied: certifi>=2017.4.17 in /usr/local/lib/python3.9/dist-packages (from requests->transformers) (2022.12.7)\n",
            "Requirement already satisfied: idna<3,>=2.5 in /usr/local/lib/python3.9/dist-packages (from requests->transformers) (2.10)\n",
            "Requirement already satisfied: urllib3<1.27,>=1.21.1 in /usr/local/lib/python3.9/dist-packages (from requests->transformers) (1.26.14)\n",
            "Looking in indexes: https://pypi.org/simple, https://us-python.pkg.dev/colab-wheels/public/simple/\n",
            "Requirement already satisfied: ckip-transformers in /usr/local/lib/python3.9/dist-packages (0.3.2)\n",
            "Requirement already satisfied: torch>=1.5.0 in /usr/local/lib/python3.9/dist-packages (from ckip-transformers) (1.13.1+cu116)\n",
            "Requirement already satisfied: transformers>=3.5.0 in /usr/local/lib/python3.9/dist-packages (from ckip-transformers) (4.26.1)\n",
            "Requirement already satisfied: tqdm>=4.27 in /usr/local/lib/python3.9/dist-packages (from ckip-transformers) (4.65.0)\n",
            "Requirement already satisfied: typing-extensions in /usr/local/lib/python3.9/dist-packages (from torch>=1.5.0->ckip-transformers) (4.5.0)\n",
            "Requirement already satisfied: requests in /usr/local/lib/python3.9/dist-packages (from transformers>=3.5.0->ckip-transformers) (2.25.1)\n",
            "Requirement already satisfied: numpy>=1.17 in /usr/local/lib/python3.9/dist-packages (from transformers>=3.5.0->ckip-transformers) (1.22.4)\n",
            "Requirement already satisfied: huggingface-hub<1.0,>=0.11.0 in /usr/local/lib/python3.9/dist-packages (from transformers>=3.5.0->ckip-transformers) (0.13.1)\n",
            "Requirement already satisfied: regex!=2019.12.17 in /usr/local/lib/python3.9/dist-packages (from transformers>=3.5.0->ckip-transformers) (2022.6.2)\n",
            "Requirement already satisfied: tokenizers!=0.11.3,<0.14,>=0.11.1 in /usr/local/lib/python3.9/dist-packages (from transformers>=3.5.0->ckip-transformers) (0.13.2)\n",
            "Requirement already satisfied: packaging>=20.0 in /usr/local/lib/python3.9/dist-packages (from transformers>=3.5.0->ckip-transformers) (23.0)\n",
            "Requirement already satisfied: pyyaml>=5.1 in /usr/local/lib/python3.9/dist-packages (from transformers>=3.5.0->ckip-transformers) (6.0)\n",
            "Requirement already satisfied: filelock in /usr/local/lib/python3.9/dist-packages (from transformers>=3.5.0->ckip-transformers) (3.9.0)\n",
            "Requirement already satisfied: certifi>=2017.4.17 in /usr/local/lib/python3.9/dist-packages (from requests->transformers>=3.5.0->ckip-transformers) (2022.12.7)\n",
            "Requirement already satisfied: urllib3<1.27,>=1.21.1 in /usr/local/lib/python3.9/dist-packages (from requests->transformers>=3.5.0->ckip-transformers) (1.26.14)\n",
            "Requirement already satisfied: idna<3,>=2.5 in /usr/local/lib/python3.9/dist-packages (from requests->transformers>=3.5.0->ckip-transformers) (2.10)\n",
            "Requirement already satisfied: chardet<5,>=3.0.2 in /usr/local/lib/python3.9/dist-packages (from requests->transformers>=3.5.0->ckip-transformers) (4.0.0)\n"
          ]
        }
      ]
    },
    {
      "cell_type": "code",
      "source": [
        "from transformers import pipeline\n",
        "from ckip_transformers.nlp import CkipWordSegmenter, CkipPosTagger, CkipNerChunker\n",
        "# roberta base LM for word prediction\n",
        "unmasker = pipeline('fill-mask', model='xlm-roberta-base') # https://huggingface.co/xlm-roberta-base\n",
        "# bert base POS tagger\n",
        "pos_driver = CkipPosTagger(model=\"bert-base\")  # https://github.com/ckiplab/ckip-transformers"
      ],
      "metadata": {
        "id": "TLRORtEbFuUg"
      },
      "execution_count": null,
      "outputs": []
    },
    {
      "cell_type": "code",
      "source": [
        "def get_predicts(sentence, k=100):\n",
        "  '''\n",
        "  input a sentence and output a dataframe with top k predictions on <mask> and \n",
        "  the Part-of-Speech tags of it\n",
        "  '''\n",
        "\n",
        "  # predict probabilities\n",
        "  sent = sentence + '<mask>'\n",
        "  pred_n = unmasker(sent, top_k=k)\n",
        "\n",
        "  # store results in dataframe\n",
        "  scores, words = [], []\n",
        "  for p in pred_n:\n",
        "    scores.append(p['score'])\n",
        "    words.append(p['token_str'])\n",
        "\n",
        "  df = pd.DataFrame({'token': words, 'score': scores})\n",
        "\n",
        "  \n",
        "  # obtain the POS tags of the predicted results\n",
        "  df['POS'] = pos_driver(df['token'])\n",
        "  df['POS_n'] = 1\n",
        "  #. change punctuations to PUNC label\n",
        "  punctuations = ['PERIODCATEGORY', 'EXCLAMATIONCATEGORY', 'QUESTIONCATEGORY', 'COMMACATEGORY', 'PARENTHESISCATEGORY']\n",
        "  for i in range(len(df['POS'])):\n",
        "    if df['POS'][i] and df['POS'][i][0] in punctuations:\n",
        "      df['POS'][i] = ['PUNC']\n",
        "    # add POS count\n",
        "    df['POS_n'][i] = len(df['POS'][i])\n",
        "\n",
        "  return df"
      ],
      "metadata": {
        "id": "kdVRjnKu5aXD"
      },
      "execution_count": null,
      "outputs": []
    },
    {
      "cell_type": "code",
      "source": [
        "# an example of results (predicted probabilities of top 100 words and their POS tags) obtained by the function\n",
        "sent = \"晓明扔掉了那颗被小狗\"\n",
        "results = get_predicts(sent)\n",
        "results"
      ],
      "metadata": {
        "colab": {
          "base_uri": "https://localhost:8080/",
          "height": 664
        },
        "id": "uO-910LT5wAK",
        "outputId": "acd83120-f987-4df8-b006-39fca7734117"
      },
      "execution_count": null,
      "outputs": [
        {
          "output_type": "stream",
          "name": "stderr",
          "text": [
            "Tokenization: 100%|██████████| 100/100 [00:00<00:00, 80861.85it/s]\n",
            "Inference: 100%|██████████| 1/1 [00:03<00:00,  3.81s/it]\n",
            "<ipython-input-34-8aee3a96689f>:46: SettingWithCopyWarning: \n",
            "A value is trying to be set on a copy of a slice from a DataFrame\n",
            "\n",
            "See the caveats in the documentation: https://pandas.pydata.org/pandas-docs/stable/user_guide/indexing.html#returning-a-view-versus-a-copy\n",
            "  df['POS_n'][i] = len(df['POS'][i])\n",
            "<ipython-input-34-8aee3a96689f>:44: SettingWithCopyWarning: \n",
            "A value is trying to be set on a copy of a slice from a DataFrame\n",
            "\n",
            "See the caveats in the documentation: https://pandas.pydata.org/pandas-docs/stable/user_guide/indexing.html#returning-a-view-versus-a-copy\n",
            "  df['POS'][i] = ['PUNC']\n"
          ]
        },
        {
          "output_type": "execute_result",
          "data": {
            "text/plain": [
              "   token     score               POS  POS_n\n",
              "0     吃了  0.306497          [VC, Di]      2\n",
              "1      咬  0.110972              [VC]      1\n",
              "2   </s>  0.070685  [FW, FW, FW, FW]      4\n",
              "3      吃  0.034744              [VC]      1\n",
              "4      的  0.030292              [DE]      1\n",
              "..   ...       ...               ...    ...\n",
              "95     碎  0.000879              [VH]      1\n",
              "96     皮  0.000876              [Na]      1\n",
              "97   的名字  0.000869      [DE, Na, Na]      3\n",
              "98   的想法  0.000866      [DE, Na, Na]      3\n",
              "99     舔  0.000848              [VC]      1\n",
              "\n",
              "[100 rows x 4 columns]"
            ],
            "text/html": [
              "\n",
              "  <div id=\"df-bfc4d6ea-794a-4310-9c90-df3d614e39a7\">\n",
              "    <div class=\"colab-df-container\">\n",
              "      <div>\n",
              "<style scoped>\n",
              "    .dataframe tbody tr th:only-of-type {\n",
              "        vertical-align: middle;\n",
              "    }\n",
              "\n",
              "    .dataframe tbody tr th {\n",
              "        vertical-align: top;\n",
              "    }\n",
              "\n",
              "    .dataframe thead th {\n",
              "        text-align: right;\n",
              "    }\n",
              "</style>\n",
              "<table border=\"1\" class=\"dataframe\">\n",
              "  <thead>\n",
              "    <tr style=\"text-align: right;\">\n",
              "      <th></th>\n",
              "      <th>token</th>\n",
              "      <th>score</th>\n",
              "      <th>POS</th>\n",
              "      <th>POS_n</th>\n",
              "    </tr>\n",
              "  </thead>\n",
              "  <tbody>\n",
              "    <tr>\n",
              "      <th>0</th>\n",
              "      <td>吃了</td>\n",
              "      <td>0.306497</td>\n",
              "      <td>[VC, Di]</td>\n",
              "      <td>2</td>\n",
              "    </tr>\n",
              "    <tr>\n",
              "      <th>1</th>\n",
              "      <td>咬</td>\n",
              "      <td>0.110972</td>\n",
              "      <td>[VC]</td>\n",
              "      <td>1</td>\n",
              "    </tr>\n",
              "    <tr>\n",
              "      <th>2</th>\n",
              "      <td>&lt;/s&gt;</td>\n",
              "      <td>0.070685</td>\n",
              "      <td>[FW, FW, FW, FW]</td>\n",
              "      <td>4</td>\n",
              "    </tr>\n",
              "    <tr>\n",
              "      <th>3</th>\n",
              "      <td>吃</td>\n",
              "      <td>0.034744</td>\n",
              "      <td>[VC]</td>\n",
              "      <td>1</td>\n",
              "    </tr>\n",
              "    <tr>\n",
              "      <th>4</th>\n",
              "      <td>的</td>\n",
              "      <td>0.030292</td>\n",
              "      <td>[DE]</td>\n",
              "      <td>1</td>\n",
              "    </tr>\n",
              "    <tr>\n",
              "      <th>...</th>\n",
              "      <td>...</td>\n",
              "      <td>...</td>\n",
              "      <td>...</td>\n",
              "      <td>...</td>\n",
              "    </tr>\n",
              "    <tr>\n",
              "      <th>95</th>\n",
              "      <td>碎</td>\n",
              "      <td>0.000879</td>\n",
              "      <td>[VH]</td>\n",
              "      <td>1</td>\n",
              "    </tr>\n",
              "    <tr>\n",
              "      <th>96</th>\n",
              "      <td>皮</td>\n",
              "      <td>0.000876</td>\n",
              "      <td>[Na]</td>\n",
              "      <td>1</td>\n",
              "    </tr>\n",
              "    <tr>\n",
              "      <th>97</th>\n",
              "      <td>的名字</td>\n",
              "      <td>0.000869</td>\n",
              "      <td>[DE, Na, Na]</td>\n",
              "      <td>3</td>\n",
              "    </tr>\n",
              "    <tr>\n",
              "      <th>98</th>\n",
              "      <td>的想法</td>\n",
              "      <td>0.000866</td>\n",
              "      <td>[DE, Na, Na]</td>\n",
              "      <td>3</td>\n",
              "    </tr>\n",
              "    <tr>\n",
              "      <th>99</th>\n",
              "      <td>舔</td>\n",
              "      <td>0.000848</td>\n",
              "      <td>[VC]</td>\n",
              "      <td>1</td>\n",
              "    </tr>\n",
              "  </tbody>\n",
              "</table>\n",
              "<p>100 rows × 4 columns</p>\n",
              "</div>\n",
              "      <button class=\"colab-df-convert\" onclick=\"convertToInteractive('df-bfc4d6ea-794a-4310-9c90-df3d614e39a7')\"\n",
              "              title=\"Convert this dataframe to an interactive table.\"\n",
              "              style=\"display:none;\">\n",
              "        \n",
              "  <svg xmlns=\"http://www.w3.org/2000/svg\" height=\"24px\"viewBox=\"0 0 24 24\"\n",
              "       width=\"24px\">\n",
              "    <path d=\"M0 0h24v24H0V0z\" fill=\"none\"/>\n",
              "    <path d=\"M18.56 5.44l.94 2.06.94-2.06 2.06-.94-2.06-.94-.94-2.06-.94 2.06-2.06.94zm-11 1L8.5 8.5l.94-2.06 2.06-.94-2.06-.94L8.5 2.5l-.94 2.06-2.06.94zm10 10l.94 2.06.94-2.06 2.06-.94-2.06-.94-.94-2.06-.94 2.06-2.06.94z\"/><path d=\"M17.41 7.96l-1.37-1.37c-.4-.4-.92-.59-1.43-.59-.52 0-1.04.2-1.43.59L10.3 9.45l-7.72 7.72c-.78.78-.78 2.05 0 2.83L4 21.41c.39.39.9.59 1.41.59.51 0 1.02-.2 1.41-.59l7.78-7.78 2.81-2.81c.8-.78.8-2.07 0-2.86zM5.41 20L4 18.59l7.72-7.72 1.47 1.35L5.41 20z\"/>\n",
              "  </svg>\n",
              "      </button>\n",
              "      \n",
              "  <style>\n",
              "    .colab-df-container {\n",
              "      display:flex;\n",
              "      flex-wrap:wrap;\n",
              "      gap: 12px;\n",
              "    }\n",
              "\n",
              "    .colab-df-convert {\n",
              "      background-color: #E8F0FE;\n",
              "      border: none;\n",
              "      border-radius: 50%;\n",
              "      cursor: pointer;\n",
              "      display: none;\n",
              "      fill: #1967D2;\n",
              "      height: 32px;\n",
              "      padding: 0 0 0 0;\n",
              "      width: 32px;\n",
              "    }\n",
              "\n",
              "    .colab-df-convert:hover {\n",
              "      background-color: #E2EBFA;\n",
              "      box-shadow: 0px 1px 2px rgba(60, 64, 67, 0.3), 0px 1px 3px 1px rgba(60, 64, 67, 0.15);\n",
              "      fill: #174EA6;\n",
              "    }\n",
              "\n",
              "    [theme=dark] .colab-df-convert {\n",
              "      background-color: #3B4455;\n",
              "      fill: #D2E3FC;\n",
              "    }\n",
              "\n",
              "    [theme=dark] .colab-df-convert:hover {\n",
              "      background-color: #434B5C;\n",
              "      box-shadow: 0px 1px 3px 1px rgba(0, 0, 0, 0.15);\n",
              "      filter: drop-shadow(0px 1px 2px rgba(0, 0, 0, 0.3));\n",
              "      fill: #FFFFFF;\n",
              "    }\n",
              "  </style>\n",
              "\n",
              "      <script>\n",
              "        const buttonEl =\n",
              "          document.querySelector('#df-bfc4d6ea-794a-4310-9c90-df3d614e39a7 button.colab-df-convert');\n",
              "        buttonEl.style.display =\n",
              "          google.colab.kernel.accessAllowed ? 'block' : 'none';\n",
              "\n",
              "        async function convertToInteractive(key) {\n",
              "          const element = document.querySelector('#df-bfc4d6ea-794a-4310-9c90-df3d614e39a7');\n",
              "          const dataTable =\n",
              "            await google.colab.kernel.invokeFunction('convertToInteractive',\n",
              "                                                     [key], {});\n",
              "          if (!dataTable) return;\n",
              "\n",
              "          const docLinkHtml = 'Like what you see? Visit the ' +\n",
              "            '<a target=\"_blank\" href=https://colab.research.google.com/notebooks/data_table.ipynb>data table notebook</a>'\n",
              "            + ' to learn more about interactive tables.';\n",
              "          element.innerHTML = '';\n",
              "          dataTable['output_type'] = 'display_data';\n",
              "          await google.colab.output.renderOutput(dataTable, element);\n",
              "          const docLink = document.createElement('div');\n",
              "          docLink.innerHTML = docLinkHtml;\n",
              "          element.appendChild(docLink);\n",
              "        }\n",
              "      </script>\n",
              "    </div>\n",
              "  </div>\n",
              "  "
            ]
          },
          "metadata": {},
          "execution_count": 35
        }
      ]
    },
    {
      "cell_type": "code",
      "source": [
        "def get_statistics(data,target):\n",
        "  '''get the list of predicted words with their predicted probabilities that has POS tagged as target value (e.g. VC, Na)'''\n",
        "  lst = []\n",
        "  for i in range(len(data)):\n",
        "    if target in data['POS'][i]:\n",
        "      # prob += data['score'][i]\n",
        "      lst.append((i, data['token'][i], data['score'][i]))\n",
        "  return lst"
      ],
      "metadata": {
        "id": "VMuIi6SxEMME"
      },
      "execution_count": null,
      "outputs": []
    },
    {
      "cell_type": "code",
      "source": [
        "import statistics\n",
        "def get_results(df,target='VC'):\n",
        "  '''get the summary statistics of predicted probabilities for words that has POS tagged as target value (e.g. VC, Na)'''\n",
        "  results = pd.DataFrame(columns=['item', 'condition','has_BEI','is_match',\n",
        "                                'total_VC_prob','mean_prob','median_prob',\n",
        "                                'min_prob','min_word','max_prob','max_word',\n",
        "                                'max_rank','count_n'])\n",
        "\n",
        "  for idx, row in df.iterrows():\n",
        "    \n",
        "      print(idx) #track process\n",
        "      data = get_predicts(row['sent'])\n",
        "      l = get_statistics(data,target)\n",
        "      \n",
        "      probs = [i[2] for i in l]\n",
        "      \n",
        "      if len(probs) == 0:\n",
        "        results.loc[idx] = [row['item'], row['condition'], row['has_BEI'], row['is_match'], \n",
        "                            0, 0, 0, 0, 0, 0,\n",
        "                            0, 0, 0]\n",
        "      else:\n",
        "        prob_sum = sum(probs)  # sum of probabilities\n",
        "        prob_mean = sum(probs) / len(probs)  # mean\n",
        "        prob_median = statistics.median(probs)  # median\n",
        "        min_prob, max_prob = min(l, key=lambda x:x[2]), max(l, key=lambda x:x[2]) # min & max\n",
        "        max_rank = min(l, key=lambda x:x[0]) # highest in rank\n",
        "        count_n = len(probs)  # number of predictions of VC\n",
        "        results.loc[idx] = [row['item'], row['condition'], row['has_BEI'], row['is_match'], \n",
        "                            prob_sum, prob_mean, prob_median, min_prob[2], min_prob[1],\n",
        "                            max_prob[2], max_prob[1], max_rank[0], count_n]\n",
        "\n",
        "  return results"
      ],
      "metadata": {
        "id": "is-CjQyn7Dfm"
      },
      "execution_count": null,
      "outputs": []
    },
    {
      "cell_type": "code",
      "source": [
        "# run the experiment result\n",
        "results_VC = get_results(df, target='VC')\n",
        "results_VC"
      ],
      "metadata": {
        "colab": {
          "base_uri": "https://localhost:8080/",
          "height": 1000
        },
        "id": "BpG_0ZsMyCVI",
        "outputId": "1762d506-b39b-40a3-89d6-ff8933c69d3c"
      },
      "execution_count": null,
      "outputs": [
        {
          "output_type": "stream",
          "name": "stdout",
          "text": [
            "0\n"
          ]
        },
        {
          "output_type": "stream",
          "name": "stderr",
          "text": [
            "Tokenization: 100%|██████████| 100/100 [00:00<00:00, 74804.78it/s]\n",
            "Inference: 100%|██████████| 1/1 [00:02<00:00,  2.35s/it]\n",
            "<ipython-input-34-8aee3a96689f>:46: SettingWithCopyWarning: \n",
            "A value is trying to be set on a copy of a slice from a DataFrame\n",
            "\n",
            "See the caveats in the documentation: https://pandas.pydata.org/pandas-docs/stable/user_guide/indexing.html#returning-a-view-versus-a-copy\n",
            "  df['POS_n'][i] = len(df['POS'][i])\n",
            "<ipython-input-34-8aee3a96689f>:44: SettingWithCopyWarning: \n",
            "A value is trying to be set on a copy of a slice from a DataFrame\n",
            "\n",
            "See the caveats in the documentation: https://pandas.pydata.org/pandas-docs/stable/user_guide/indexing.html#returning-a-view-versus-a-copy\n",
            "  df['POS'][i] = ['PUNC']\n"
          ]
        },
        {
          "output_type": "stream",
          "name": "stdout",
          "text": [
            "1\n"
          ]
        },
        {
          "output_type": "stream",
          "name": "stderr",
          "text": [
            "Tokenization: 100%|██████████| 100/100 [00:00<00:00, 81856.05it/s]\n",
            "Inference: 100%|██████████| 1/1 [00:02<00:00,  2.90s/it]\n"
          ]
        },
        {
          "output_type": "stream",
          "name": "stdout",
          "text": [
            "2\n"
          ]
        },
        {
          "output_type": "stream",
          "name": "stderr",
          "text": [
            "Tokenization: 100%|██████████| 100/100 [00:00<00:00, 87163.42it/s]\n",
            "Inference: 100%|██████████| 1/1 [00:03<00:00,  3.48s/it]\n"
          ]
        },
        {
          "output_type": "stream",
          "name": "stdout",
          "text": [
            "3\n"
          ]
        },
        {
          "output_type": "stream",
          "name": "stderr",
          "text": [
            "Tokenization: 100%|██████████| 100/100 [00:00<00:00, 58012.50it/s]\n",
            "Inference: 100%|██████████| 1/1 [00:02<00:00,  2.38s/it]\n"
          ]
        },
        {
          "output_type": "stream",
          "name": "stdout",
          "text": [
            "4\n"
          ]
        },
        {
          "output_type": "stream",
          "name": "stderr",
          "text": [
            "Tokenization: 100%|██████████| 100/100 [00:00<00:00, 88004.70it/s]\n",
            "Inference: 100%|██████████| 1/1 [00:02<00:00,  2.43s/it]\n"
          ]
        },
        {
          "output_type": "stream",
          "name": "stdout",
          "text": [
            "5\n"
          ]
        },
        {
          "output_type": "stream",
          "name": "stderr",
          "text": [
            "Tokenization: 100%|██████████| 100/100 [00:00<00:00, 40357.01it/s]\n",
            "Inference: 100%|██████████| 1/1 [00:03<00:00,  3.94s/it]\n"
          ]
        },
        {
          "output_type": "stream",
          "name": "stdout",
          "text": [
            "6\n"
          ]
        },
        {
          "output_type": "stream",
          "name": "stderr",
          "text": [
            "Tokenization: 100%|██████████| 100/100 [00:00<00:00, 87728.59it/s]\n",
            "Inference: 100%|██████████| 1/1 [00:03<00:00,  3.84s/it]\n"
          ]
        },
        {
          "output_type": "stream",
          "name": "stdout",
          "text": [
            "7\n"
          ]
        },
        {
          "output_type": "stream",
          "name": "stderr",
          "text": [
            "Tokenization: 100%|██████████| 100/100 [00:00<00:00, 54267.10it/s]\n",
            "Inference: 100%|██████████| 1/1 [00:04<00:00,  4.78s/it]\n"
          ]
        },
        {
          "output_type": "stream",
          "name": "stdout",
          "text": [
            "8\n"
          ]
        },
        {
          "output_type": "stream",
          "name": "stderr",
          "text": [
            "Tokenization: 100%|██████████| 100/100 [00:00<00:00, 141699.46it/s]\n",
            "Inference: 100%|██████████| 1/1 [00:02<00:00,  2.57s/it]\n"
          ]
        },
        {
          "output_type": "stream",
          "name": "stdout",
          "text": [
            "9\n"
          ]
        },
        {
          "output_type": "stream",
          "name": "stderr",
          "text": [
            "Tokenization: 100%|██████████| 100/100 [00:00<00:00, 53166.48it/s]\n",
            "Inference: 100%|██████████| 1/1 [00:03<00:00,  3.93s/it]\n"
          ]
        },
        {
          "output_type": "stream",
          "name": "stdout",
          "text": [
            "10\n"
          ]
        },
        {
          "output_type": "stream",
          "name": "stderr",
          "text": [
            "Tokenization: 100%|██████████| 100/100 [00:00<00:00, 80273.76it/s]\n",
            "Inference: 100%|██████████| 1/1 [00:02<00:00,  2.89s/it]\n"
          ]
        },
        {
          "output_type": "stream",
          "name": "stdout",
          "text": [
            "11\n"
          ]
        },
        {
          "output_type": "stream",
          "name": "stderr",
          "text": [
            "Tokenization: 100%|██████████| 100/100 [00:00<00:00, 160886.23it/s]\n",
            "Inference: 100%|██████████| 1/1 [00:02<00:00,  2.49s/it]\n"
          ]
        },
        {
          "output_type": "stream",
          "name": "stdout",
          "text": [
            "12\n"
          ]
        },
        {
          "output_type": "stream",
          "name": "stderr",
          "text": [
            "Tokenization: 100%|██████████| 100/100 [00:00<00:00, 50833.89it/s]\n",
            "Inference: 100%|██████████| 1/1 [00:02<00:00,  2.48s/it]\n"
          ]
        },
        {
          "output_type": "stream",
          "name": "stdout",
          "text": [
            "13\n"
          ]
        },
        {
          "output_type": "stream",
          "name": "stderr",
          "text": [
            "Tokenization: 100%|██████████| 100/100 [00:00<00:00, 104962.56it/s]\n",
            "Inference: 100%|██████████| 1/1 [00:07<00:00,  8.00s/it]\n"
          ]
        },
        {
          "output_type": "stream",
          "name": "stdout",
          "text": [
            "14\n"
          ]
        },
        {
          "output_type": "stream",
          "name": "stderr",
          "text": [
            "Tokenization: 100%|██████████| 100/100 [00:00<00:00, 139391.96it/s]\n",
            "Inference: 100%|██████████| 1/1 [00:02<00:00,  2.42s/it]\n"
          ]
        },
        {
          "output_type": "stream",
          "name": "stdout",
          "text": [
            "15\n"
          ]
        },
        {
          "output_type": "stream",
          "name": "stderr",
          "text": [
            "Tokenization: 100%|██████████| 100/100 [00:00<00:00, 127023.14it/s]\n",
            "Inference: 100%|██████████| 1/1 [00:04<00:00,  4.61s/it]\n"
          ]
        },
        {
          "output_type": "stream",
          "name": "stdout",
          "text": [
            "16\n"
          ]
        },
        {
          "output_type": "stream",
          "name": "stderr",
          "text": [
            "Tokenization: 100%|██████████| 100/100 [00:00<00:00, 156913.73it/s]\n",
            "Inference: 100%|██████████| 1/1 [00:03<00:00,  3.09s/it]\n"
          ]
        },
        {
          "output_type": "stream",
          "name": "stdout",
          "text": [
            "17\n"
          ]
        },
        {
          "output_type": "stream",
          "name": "stderr",
          "text": [
            "Tokenization: 100%|██████████| 100/100 [00:00<00:00, 77961.04it/s]\n",
            "Inference: 100%|██████████| 1/1 [00:03<00:00,  3.59s/it]\n"
          ]
        },
        {
          "output_type": "stream",
          "name": "stdout",
          "text": [
            "18\n"
          ]
        },
        {
          "output_type": "stream",
          "name": "stderr",
          "text": [
            "Tokenization: 100%|██████████| 100/100 [00:00<00:00, 85267.41it/s]\n",
            "Inference: 100%|██████████| 1/1 [00:02<00:00,  2.28s/it]\n"
          ]
        },
        {
          "output_type": "stream",
          "name": "stdout",
          "text": [
            "19\n"
          ]
        },
        {
          "output_type": "stream",
          "name": "stderr",
          "text": [
            "Tokenization: 100%|██████████| 100/100 [00:00<00:00, 83852.54it/s]\n",
            "Inference: 100%|██████████| 1/1 [00:02<00:00,  2.39s/it]\n"
          ]
        },
        {
          "output_type": "stream",
          "name": "stdout",
          "text": [
            "20\n"
          ]
        },
        {
          "output_type": "stream",
          "name": "stderr",
          "text": [
            "Tokenization: 100%|██████████| 100/100 [00:00<00:00, 144183.71it/s]\n",
            "Inference: 100%|██████████| 1/1 [00:03<00:00,  3.11s/it]\n"
          ]
        },
        {
          "output_type": "stream",
          "name": "stdout",
          "text": [
            "21\n"
          ]
        },
        {
          "output_type": "stream",
          "name": "stderr",
          "text": [
            "Tokenization: 100%|██████████| 100/100 [00:00<00:00, 78398.21it/s]\n",
            "Inference: 100%|██████████| 1/1 [00:06<00:00,  6.78s/it]\n"
          ]
        },
        {
          "output_type": "stream",
          "name": "stdout",
          "text": [
            "22\n"
          ]
        },
        {
          "output_type": "stream",
          "name": "stderr",
          "text": [
            "Tokenization: 100%|██████████| 100/100 [00:00<00:00, 53711.15it/s]\n",
            "Inference: 100%|██████████| 1/1 [00:02<00:00,  2.88s/it]\n"
          ]
        },
        {
          "output_type": "stream",
          "name": "stdout",
          "text": [
            "23\n"
          ]
        },
        {
          "output_type": "stream",
          "name": "stderr",
          "text": [
            "Tokenization: 100%|██████████| 100/100 [00:00<00:00, 185670.83it/s]\n",
            "Inference: 100%|██████████| 1/1 [00:06<00:00,  6.85s/it]\n"
          ]
        },
        {
          "output_type": "stream",
          "name": "stdout",
          "text": [
            "24\n"
          ]
        },
        {
          "output_type": "stream",
          "name": "stderr",
          "text": [
            "Tokenization: 100%|██████████| 100/100 [00:00<00:00, 86320.31it/s]\n",
            "Inference: 100%|██████████| 1/1 [00:02<00:00,  2.42s/it]\n"
          ]
        },
        {
          "output_type": "stream",
          "name": "stdout",
          "text": [
            "25\n"
          ]
        },
        {
          "output_type": "stream",
          "name": "stderr",
          "text": [
            "Tokenization: 100%|██████████| 100/100 [00:00<00:00, 198031.35it/s]\n",
            "Inference: 100%|██████████| 1/1 [00:04<00:00,  4.91s/it]\n"
          ]
        },
        {
          "output_type": "stream",
          "name": "stdout",
          "text": [
            "26\n"
          ]
        },
        {
          "output_type": "stream",
          "name": "stderr",
          "text": [
            "Tokenization: 100%|██████████| 100/100 [00:00<00:00, 83735.36it/s]\n",
            "Inference: 100%|██████████| 1/1 [00:02<00:00,  2.92s/it]\n"
          ]
        },
        {
          "output_type": "stream",
          "name": "stdout",
          "text": [
            "27\n"
          ]
        },
        {
          "output_type": "stream",
          "name": "stderr",
          "text": [
            "Tokenization: 100%|██████████| 100/100 [00:00<00:00, 68894.61it/s]\n",
            "Inference: 100%|██████████| 1/1 [00:05<00:00,  5.92s/it]\n"
          ]
        },
        {
          "output_type": "stream",
          "name": "stdout",
          "text": [
            "28\n"
          ]
        },
        {
          "output_type": "stream",
          "name": "stderr",
          "text": [
            "Tokenization: 100%|██████████| 100/100 [00:00<00:00, 77903.12it/s]\n",
            "Inference: 100%|██████████| 1/1 [00:04<00:00,  4.57s/it]\n"
          ]
        },
        {
          "output_type": "stream",
          "name": "stdout",
          "text": [
            "29\n"
          ]
        },
        {
          "output_type": "stream",
          "name": "stderr",
          "text": [
            "Tokenization: 100%|██████████| 100/100 [00:00<00:00, 134260.69it/s]\n",
            "Inference: 100%|██████████| 1/1 [00:05<00:00,  5.22s/it]\n"
          ]
        },
        {
          "output_type": "stream",
          "name": "stdout",
          "text": [
            "30\n"
          ]
        },
        {
          "output_type": "stream",
          "name": "stderr",
          "text": [
            "Tokenization: 100%|██████████| 100/100 [00:00<00:00, 79694.17it/s]\n",
            "Inference: 100%|██████████| 1/1 [00:03<00:00,  3.66s/it]\n"
          ]
        },
        {
          "output_type": "stream",
          "name": "stdout",
          "text": [
            "31\n"
          ]
        },
        {
          "output_type": "stream",
          "name": "stderr",
          "text": [
            "Tokenization: 100%|██████████| 100/100 [00:00<00:00, 132395.96it/s]\n",
            "Inference: 100%|██████████| 1/1 [00:04<00:00,  4.64s/it]\n"
          ]
        },
        {
          "output_type": "stream",
          "name": "stdout",
          "text": [
            "32\n"
          ]
        },
        {
          "output_type": "stream",
          "name": "stderr",
          "text": [
            "Tokenization: 100%|██████████| 100/100 [00:00<00:00, 143003.89it/s]\n",
            "Inference: 100%|██████████| 1/1 [00:04<00:00,  4.79s/it]\n"
          ]
        },
        {
          "output_type": "stream",
          "name": "stdout",
          "text": [
            "33\n"
          ]
        },
        {
          "output_type": "stream",
          "name": "stderr",
          "text": [
            "Tokenization: 100%|██████████| 100/100 [00:00<00:00, 76706.36it/s]\n",
            "Inference: 100%|██████████| 1/1 [00:05<00:00,  5.76s/it]\n"
          ]
        },
        {
          "output_type": "stream",
          "name": "stdout",
          "text": [
            "34\n"
          ]
        },
        {
          "output_type": "stream",
          "name": "stderr",
          "text": [
            "Tokenization: 100%|██████████| 100/100 [00:00<00:00, 182997.56it/s]\n",
            "Inference: 100%|██████████| 1/1 [00:03<00:00,  3.22s/it]\n"
          ]
        },
        {
          "output_type": "stream",
          "name": "stdout",
          "text": [
            "35\n"
          ]
        },
        {
          "output_type": "stream",
          "name": "stderr",
          "text": [
            "Tokenization: 100%|██████████| 100/100 [00:00<00:00, 125277.90it/s]\n",
            "Inference: 100%|██████████| 1/1 [00:06<00:00,  6.88s/it]\n"
          ]
        },
        {
          "output_type": "stream",
          "name": "stdout",
          "text": [
            "36\n"
          ]
        },
        {
          "output_type": "stream",
          "name": "stderr",
          "text": [
            "Tokenization: 100%|██████████| 100/100 [00:00<00:00, 192664.40it/s]\n",
            "Inference: 100%|██████████| 1/1 [00:02<00:00,  2.62s/it]\n"
          ]
        },
        {
          "output_type": "stream",
          "name": "stdout",
          "text": [
            "37\n"
          ]
        },
        {
          "output_type": "stream",
          "name": "stderr",
          "text": [
            "Tokenization: 100%|██████████| 100/100 [00:00<00:00, 122318.58it/s]\n",
            "Inference: 100%|██████████| 1/1 [00:04<00:00,  4.40s/it]\n"
          ]
        },
        {
          "output_type": "stream",
          "name": "stdout",
          "text": [
            "38\n"
          ]
        },
        {
          "output_type": "stream",
          "name": "stderr",
          "text": [
            "Tokenization: 100%|██████████| 100/100 [00:00<00:00, 140701.24it/s]\n",
            "Inference: 100%|██████████| 1/1 [00:03<00:00,  3.82s/it]\n"
          ]
        },
        {
          "output_type": "stream",
          "name": "stdout",
          "text": [
            "39\n"
          ]
        },
        {
          "output_type": "stream",
          "name": "stderr",
          "text": [
            "Tokenization: 100%|██████████| 100/100 [00:00<00:00, 74938.43it/s]\n",
            "Inference: 100%|██████████| 1/1 [00:03<00:00,  3.45s/it]\n"
          ]
        },
        {
          "output_type": "stream",
          "name": "stdout",
          "text": [
            "40\n"
          ]
        },
        {
          "output_type": "stream",
          "name": "stderr",
          "text": [
            "Tokenization: 100%|██████████| 100/100 [00:00<00:00, 148103.95it/s]\n",
            "Inference: 100%|██████████| 1/1 [00:02<00:00,  2.42s/it]\n"
          ]
        },
        {
          "output_type": "stream",
          "name": "stdout",
          "text": [
            "41\n"
          ]
        },
        {
          "output_type": "stream",
          "name": "stderr",
          "text": [
            "Tokenization: 100%|██████████| 100/100 [00:00<00:00, 192046.89it/s]\n",
            "Inference: 100%|██████████| 1/1 [00:03<00:00,  3.43s/it]\n"
          ]
        },
        {
          "output_type": "stream",
          "name": "stdout",
          "text": [
            "42\n"
          ]
        },
        {
          "output_type": "stream",
          "name": "stderr",
          "text": [
            "Tokenization: 100%|██████████| 100/100 [00:00<00:00, 86320.31it/s]\n",
            "Inference: 100%|██████████| 1/1 [00:04<00:00,  4.05s/it]\n"
          ]
        },
        {
          "output_type": "stream",
          "name": "stdout",
          "text": [
            "43\n"
          ]
        },
        {
          "output_type": "stream",
          "name": "stderr",
          "text": [
            "Tokenization: 100%|██████████| 100/100 [00:00<00:00, 77600.44it/s]\n",
            "Inference: 100%|██████████| 1/1 [00:03<00:00,  3.71s/it]\n"
          ]
        },
        {
          "output_type": "stream",
          "name": "stdout",
          "text": [
            "44\n"
          ]
        },
        {
          "output_type": "stream",
          "name": "stderr",
          "text": [
            "Tokenization: 100%|██████████| 100/100 [00:00<00:00, 152742.32it/s]\n",
            "Inference: 100%|██████████| 1/1 [00:02<00:00,  2.42s/it]\n"
          ]
        },
        {
          "output_type": "stream",
          "name": "stdout",
          "text": [
            "45\n"
          ]
        },
        {
          "output_type": "stream",
          "name": "stderr",
          "text": [
            "Tokenization: 100%|██████████| 100/100 [00:00<00:00, 142614.89it/s]\n",
            "Inference: 100%|██████████| 1/1 [00:04<00:00,  4.37s/it]\n"
          ]
        },
        {
          "output_type": "stream",
          "name": "stdout",
          "text": [
            "46\n"
          ]
        },
        {
          "output_type": "stream",
          "name": "stderr",
          "text": [
            "Tokenization: 100%|██████████| 100/100 [00:00<00:00, 80846.26it/s]\n",
            "Inference: 100%|██████████| 1/1 [00:03<00:00,  3.41s/it]\n"
          ]
        },
        {
          "output_type": "stream",
          "name": "stdout",
          "text": [
            "47\n"
          ]
        },
        {
          "output_type": "stream",
          "name": "stderr",
          "text": [
            "Tokenization: 100%|██████████| 100/100 [00:00<00:00, 161443.57it/s]\n",
            "Inference: 100%|██████████| 1/1 [00:03<00:00,  3.70s/it]\n"
          ]
        },
        {
          "output_type": "stream",
          "name": "stdout",
          "text": [
            "48\n"
          ]
        },
        {
          "output_type": "stream",
          "name": "stderr",
          "text": [
            "Tokenization: 100%|██████████| 100/100 [00:00<00:00, 145534.49it/s]\n",
            "Inference: 100%|██████████| 1/1 [00:02<00:00,  2.69s/it]\n"
          ]
        },
        {
          "output_type": "stream",
          "name": "stdout",
          "text": [
            "49\n"
          ]
        },
        {
          "output_type": "stream",
          "name": "stderr",
          "text": [
            "Tokenization: 100%|██████████| 100/100 [00:00<00:00, 130298.35it/s]\n",
            "Inference: 100%|██████████| 1/1 [00:07<00:00,  7.30s/it]\n"
          ]
        },
        {
          "output_type": "stream",
          "name": "stdout",
          "text": [
            "50\n"
          ]
        },
        {
          "output_type": "stream",
          "name": "stderr",
          "text": [
            "Tokenization: 100%|██████████| 100/100 [00:00<00:00, 73519.79it/s]\n",
            "Inference: 100%|██████████| 1/1 [00:02<00:00,  2.35s/it]\n"
          ]
        },
        {
          "output_type": "stream",
          "name": "stdout",
          "text": [
            "51\n"
          ]
        },
        {
          "output_type": "stream",
          "name": "stderr",
          "text": [
            "Tokenization: 100%|██████████| 100/100 [00:00<00:00, 193732.29it/s]\n",
            "Inference: 100%|██████████| 1/1 [00:03<00:00,  3.42s/it]\n"
          ]
        },
        {
          "output_type": "stream",
          "name": "stdout",
          "text": [
            "52\n"
          ]
        },
        {
          "output_type": "stream",
          "name": "stderr",
          "text": [
            "Tokenization: 100%|██████████| 100/100 [00:00<00:00, 34430.34it/s]\n",
            "Inference: 100%|██████████| 1/1 [00:03<00:00,  3.51s/it]\n"
          ]
        },
        {
          "output_type": "stream",
          "name": "stdout",
          "text": [
            "53\n"
          ]
        },
        {
          "output_type": "stream",
          "name": "stderr",
          "text": [
            "Tokenization: 100%|██████████| 100/100 [00:00<00:00, 58743.75it/s]\n",
            "Inference: 100%|██████████| 1/1 [00:06<00:00,  6.15s/it]\n"
          ]
        },
        {
          "output_type": "stream",
          "name": "stdout",
          "text": [
            "54\n"
          ]
        },
        {
          "output_type": "stream",
          "name": "stderr",
          "text": [
            "Tokenization: 100%|██████████| 100/100 [00:00<00:00, 134691.84it/s]\n",
            "Inference: 100%|██████████| 1/1 [00:02<00:00,  2.39s/it]\n"
          ]
        },
        {
          "output_type": "stream",
          "name": "stdout",
          "text": [
            "55\n"
          ]
        },
        {
          "output_type": "stream",
          "name": "stderr",
          "text": [
            "Tokenization: 100%|██████████| 100/100 [00:00<00:00, 129254.36it/s]\n",
            "Inference: 100%|██████████| 1/1 [00:06<00:00,  6.36s/it]\n"
          ]
        },
        {
          "output_type": "stream",
          "name": "stdout",
          "text": [
            "56\n"
          ]
        },
        {
          "output_type": "stream",
          "name": "stderr",
          "text": [
            "Tokenization: 100%|██████████| 100/100 [00:00<00:00, 80582.21it/s]\n",
            "Inference: 100%|██████████| 1/1 [00:03<00:00,  3.42s/it]\n"
          ]
        },
        {
          "output_type": "stream",
          "name": "stdout",
          "text": [
            "57\n"
          ]
        },
        {
          "output_type": "stream",
          "name": "stderr",
          "text": [
            "Tokenization: 100%|██████████| 100/100 [00:00<00:00, 84853.41it/s]\n",
            "Inference: 100%|██████████| 1/1 [00:04<00:00,  4.08s/it]\n"
          ]
        },
        {
          "output_type": "stream",
          "name": "stdout",
          "text": [
            "58\n"
          ]
        },
        {
          "output_type": "stream",
          "name": "stderr",
          "text": [
            "Tokenization: 100%|██████████| 100/100 [00:00<00:00, 165065.09it/s]\n",
            "Inference: 100%|██████████| 1/1 [00:02<00:00,  2.76s/it]\n"
          ]
        },
        {
          "output_type": "stream",
          "name": "stdout",
          "text": [
            "59\n"
          ]
        },
        {
          "output_type": "stream",
          "name": "stderr",
          "text": [
            "Tokenization: 100%|██████████| 100/100 [00:00<00:00, 80289.13it/s]\n",
            "Inference: 100%|██████████| 1/1 [00:04<00:00,  4.76s/it]\n"
          ]
        },
        {
          "output_type": "stream",
          "name": "stdout",
          "text": [
            "60\n"
          ]
        },
        {
          "output_type": "stream",
          "name": "stderr",
          "text": [
            "Tokenization: 100%|██████████| 100/100 [00:00<00:00, 133832.29it/s]\n",
            "Inference: 100%|██████████| 1/1 [00:03<00:00,  3.68s/it]\n"
          ]
        },
        {
          "output_type": "stream",
          "name": "stdout",
          "text": [
            "61\n"
          ]
        },
        {
          "output_type": "stream",
          "name": "stderr",
          "text": [
            "Tokenization: 100%|██████████| 100/100 [00:00<00:00, 102525.15it/s]\n",
            "Inference: 100%|██████████| 1/1 [00:07<00:00,  7.45s/it]\n"
          ]
        },
        {
          "output_type": "stream",
          "name": "stdout",
          "text": [
            "62\n"
          ]
        },
        {
          "output_type": "stream",
          "name": "stderr",
          "text": [
            "Tokenization: 100%|██████████| 100/100 [00:00<00:00, 122104.92it/s]\n",
            "Inference: 100%|██████████| 1/1 [00:03<00:00,  3.66s/it]\n"
          ]
        },
        {
          "output_type": "stream",
          "name": "stdout",
          "text": [
            "63\n"
          ]
        },
        {
          "output_type": "stream",
          "name": "stderr",
          "text": [
            "Tokenization: 100%|██████████| 100/100 [00:00<00:00, 132899.37it/s]\n",
            "Inference: 100%|██████████| 1/1 [00:05<00:00,  5.40s/it]\n"
          ]
        },
        {
          "output_type": "stream",
          "name": "stdout",
          "text": [
            "64\n"
          ]
        },
        {
          "output_type": "stream",
          "name": "stderr",
          "text": [
            "Tokenization: 100%|██████████| 100/100 [00:00<00:00, 141603.78it/s]\n",
            "Inference: 100%|██████████| 1/1 [00:02<00:00,  2.66s/it]\n"
          ]
        },
        {
          "output_type": "stream",
          "name": "stdout",
          "text": [
            "65\n"
          ]
        },
        {
          "output_type": "stream",
          "name": "stderr",
          "text": [
            "Tokenization: 100%|██████████| 100/100 [00:00<00:00, 73597.19it/s]\n",
            "Inference: 100%|██████████| 1/1 [00:05<00:00,  5.34s/it]\n"
          ]
        },
        {
          "output_type": "stream",
          "name": "stdout",
          "text": [
            "66\n"
          ]
        },
        {
          "output_type": "stream",
          "name": "stderr",
          "text": [
            "Tokenization: 100%|██████████| 100/100 [00:00<00:00, 134346.70it/s]\n",
            "Inference: 100%|██████████| 1/1 [00:04<00:00,  4.02s/it]\n"
          ]
        },
        {
          "output_type": "stream",
          "name": "stdout",
          "text": [
            "67\n"
          ]
        },
        {
          "output_type": "stream",
          "name": "stderr",
          "text": [
            "Tokenization: 100%|██████████| 100/100 [00:00<00:00, 138106.82it/s]\n",
            "Inference: 100%|██████████| 1/1 [00:06<00:00,  6.32s/it]\n"
          ]
        },
        {
          "output_type": "stream",
          "name": "stdout",
          "text": [
            "68\n"
          ]
        },
        {
          "output_type": "stream",
          "name": "stderr",
          "text": [
            "Tokenization: 100%|██████████| 100/100 [00:00<00:00, 141317.52it/s]\n",
            "Inference: 100%|██████████| 1/1 [00:03<00:00,  3.21s/it]\n"
          ]
        },
        {
          "output_type": "stream",
          "name": "stdout",
          "text": [
            "69\n"
          ]
        },
        {
          "output_type": "stream",
          "name": "stderr",
          "text": [
            "Tokenization: 100%|██████████| 100/100 [00:00<00:00, 142566.42it/s]\n",
            "Inference: 100%|██████████| 1/1 [00:04<00:00,  4.93s/it]\n"
          ]
        },
        {
          "output_type": "stream",
          "name": "stdout",
          "text": [
            "70\n"
          ]
        },
        {
          "output_type": "stream",
          "name": "stderr",
          "text": [
            "Tokenization: 100%|██████████| 100/100 [00:00<00:00, 67715.60it/s]\n",
            "Inference: 100%|██████████| 1/1 [00:02<00:00,  2.65s/it]\n"
          ]
        },
        {
          "output_type": "stream",
          "name": "stdout",
          "text": [
            "71\n"
          ]
        },
        {
          "output_type": "stream",
          "name": "stderr",
          "text": [
            "Tokenization: 100%|██████████| 100/100 [00:00<00:00, 72957.11it/s]\n",
            "Inference: 100%|██████████| 1/1 [00:05<00:00,  5.15s/it]\n"
          ]
        },
        {
          "output_type": "stream",
          "name": "stdout",
          "text": [
            "72\n"
          ]
        },
        {
          "output_type": "stream",
          "name": "stderr",
          "text": [
            "Tokenization: 100%|██████████| 100/100 [00:00<00:00, 89890.78it/s]\n",
            "Inference: 100%|██████████| 1/1 [00:02<00:00,  2.95s/it]\n"
          ]
        },
        {
          "output_type": "stream",
          "name": "stdout",
          "text": [
            "73\n"
          ]
        },
        {
          "output_type": "stream",
          "name": "stderr",
          "text": [
            "Tokenization: 100%|██████████| 100/100 [00:00<00:00, 72553.26it/s]\n",
            "Inference: 100%|██████████| 1/1 [00:04<00:00,  4.01s/it]\n"
          ]
        },
        {
          "output_type": "stream",
          "name": "stdout",
          "text": [
            "74\n"
          ]
        },
        {
          "output_type": "stream",
          "name": "stderr",
          "text": [
            "Tokenization: 100%|██████████| 100/100 [00:00<00:00, 147842.93it/s]\n",
            "Inference: 100%|██████████| 1/1 [00:03<00:00,  3.91s/it]\n"
          ]
        },
        {
          "output_type": "stream",
          "name": "stdout",
          "text": [
            "75\n"
          ]
        },
        {
          "output_type": "stream",
          "name": "stderr",
          "text": [
            "Tokenization: 100%|██████████| 100/100 [00:00<00:00, 76371.16it/s]\n",
            "Inference: 100%|██████████| 1/1 [00:05<00:00,  5.41s/it]\n"
          ]
        },
        {
          "output_type": "stream",
          "name": "stdout",
          "text": [
            "76\n"
          ]
        },
        {
          "output_type": "stream",
          "name": "stderr",
          "text": [
            "Tokenization: 100%|██████████| 100/100 [00:00<00:00, 144931.03it/s]\n",
            "Inference: 100%|██████████| 1/1 [00:02<00:00,  2.35s/it]\n"
          ]
        },
        {
          "output_type": "stream",
          "name": "stdout",
          "text": [
            "77\n"
          ]
        },
        {
          "output_type": "stream",
          "name": "stderr",
          "text": [
            "Tokenization: 100%|██████████| 100/100 [00:00<00:00, 52898.27it/s]\n",
            "Inference: 100%|██████████| 1/1 [00:04<00:00,  4.76s/it]\n"
          ]
        },
        {
          "output_type": "stream",
          "name": "stdout",
          "text": [
            "78\n"
          ]
        },
        {
          "output_type": "stream",
          "name": "stderr",
          "text": [
            "Tokenization: 100%|██████████| 100/100 [00:00<00:00, 82386.64it/s]\n",
            "Inference: 100%|██████████| 1/1 [00:02<00:00,  2.73s/it]\n"
          ]
        },
        {
          "output_type": "stream",
          "name": "stdout",
          "text": [
            "79\n"
          ]
        },
        {
          "output_type": "stream",
          "name": "stderr",
          "text": [
            "Tokenization: 100%|██████████| 100/100 [00:00<00:00, 75970.01it/s]\n",
            "Inference: 100%|██████████| 1/1 [00:04<00:00,  4.66s/it]\n"
          ]
        },
        {
          "output_type": "stream",
          "name": "stdout",
          "text": [
            "80\n"
          ]
        },
        {
          "output_type": "stream",
          "name": "stderr",
          "text": [
            "Tokenization: 100%|██████████| 100/100 [00:00<00:00, 211833.54it/s]\n",
            "Inference: 100%|██████████| 1/1 [00:02<00:00,  2.48s/it]\n"
          ]
        },
        {
          "output_type": "stream",
          "name": "stdout",
          "text": [
            "81\n"
          ]
        },
        {
          "output_type": "stream",
          "name": "stderr",
          "text": [
            "Tokenization: 100%|██████████| 100/100 [00:00<00:00, 144981.13it/s]\n",
            "Inference: 100%|██████████| 1/1 [00:05<00:00,  5.88s/it]\n"
          ]
        },
        {
          "output_type": "stream",
          "name": "stdout",
          "text": [
            "82\n"
          ]
        },
        {
          "output_type": "stream",
          "name": "stderr",
          "text": [
            "Tokenization: 100%|██████████| 100/100 [00:00<00:00, 214872.13it/s]\n",
            "Inference: 100%|██████████| 1/1 [00:02<00:00,  2.54s/it]\n"
          ]
        },
        {
          "output_type": "stream",
          "name": "stdout",
          "text": [
            "83\n"
          ]
        },
        {
          "output_type": "stream",
          "name": "stderr",
          "text": [
            "Tokenization: 100%|██████████| 100/100 [00:00<00:00, 140701.24it/s]\n",
            "Inference: 100%|██████████| 1/1 [00:04<00:00,  4.86s/it]\n"
          ]
        },
        {
          "output_type": "stream",
          "name": "stdout",
          "text": [
            "84\n"
          ]
        },
        {
          "output_type": "stream",
          "name": "stderr",
          "text": [
            "Tokenization: 100%|██████████| 100/100 [00:00<00:00, 23410.94it/s]\n",
            "Inference: 100%|██████████| 1/1 [00:05<00:00,  5.20s/it]\n"
          ]
        },
        {
          "output_type": "stream",
          "name": "stdout",
          "text": [
            "85\n"
          ]
        },
        {
          "output_type": "stream",
          "name": "stderr",
          "text": [
            "Tokenization: 100%|██████████| 100/100 [00:00<00:00, 130501.06it/s]\n",
            "Inference: 100%|██████████| 1/1 [00:04<00:00,  4.47s/it]\n"
          ]
        },
        {
          "output_type": "stream",
          "name": "stdout",
          "text": [
            "86\n"
          ]
        },
        {
          "output_type": "stream",
          "name": "stderr",
          "text": [
            "Tokenization: 100%|██████████| 100/100 [00:00<00:00, 102826.77it/s]\n",
            "Inference: 100%|██████████| 1/1 [00:03<00:00,  3.14s/it]\n"
          ]
        },
        {
          "output_type": "stream",
          "name": "stdout",
          "text": [
            "87\n"
          ]
        },
        {
          "output_type": "stream",
          "name": "stderr",
          "text": [
            "Tokenization: 100%|██████████| 100/100 [00:00<00:00, 56626.22it/s]\n",
            "Inference: 100%|██████████| 1/1 [00:06<00:00,  6.43s/it]\n"
          ]
        },
        {
          "output_type": "stream",
          "name": "stdout",
          "text": [
            "88\n"
          ]
        },
        {
          "output_type": "stream",
          "name": "stderr",
          "text": [
            "Tokenization: 100%|██████████| 100/100 [00:00<00:00, 156796.41it/s]\n",
            "Inference: 100%|██████████| 1/1 [00:02<00:00,  2.92s/it]\n"
          ]
        },
        {
          "output_type": "stream",
          "name": "stdout",
          "text": [
            "89\n"
          ]
        },
        {
          "output_type": "stream",
          "name": "stderr",
          "text": [
            "Tokenization: 100%|██████████| 100/100 [00:00<00:00, 21235.91it/s]\n",
            "Inference: 100%|██████████| 1/1 [00:06<00:00,  6.41s/it]\n"
          ]
        },
        {
          "output_type": "stream",
          "name": "stdout",
          "text": [
            "90\n"
          ]
        },
        {
          "output_type": "stream",
          "name": "stderr",
          "text": [
            "Tokenization: 100%|██████████| 100/100 [00:00<00:00, 83869.31it/s]\n",
            "Inference: 100%|██████████| 1/1 [00:03<00:00,  3.29s/it]\n"
          ]
        },
        {
          "output_type": "stream",
          "name": "stdout",
          "text": [
            "91\n"
          ]
        },
        {
          "output_type": "stream",
          "name": "stderr",
          "text": [
            "Tokenization: 100%|██████████| 100/100 [00:00<00:00, 129935.07it/s]\n",
            "Inference: 100%|██████████| 1/1 [00:05<00:00,  5.72s/it]\n"
          ]
        },
        {
          "output_type": "stream",
          "name": "stdout",
          "text": [
            "92\n"
          ]
        },
        {
          "output_type": "stream",
          "name": "stderr",
          "text": [
            "Tokenization: 100%|██████████| 100/100 [00:00<00:00, 200492.54it/s]\n",
            "Inference: 100%|██████████| 1/1 [00:03<00:00,  3.19s/it]\n"
          ]
        },
        {
          "output_type": "stream",
          "name": "stdout",
          "text": [
            "93\n"
          ]
        },
        {
          "output_type": "stream",
          "name": "stderr",
          "text": [
            "Tokenization: 100%|██████████| 100/100 [00:00<00:00, 83055.52it/s]\n",
            "Inference: 100%|██████████| 1/1 [00:04<00:00,  4.27s/it]\n"
          ]
        },
        {
          "output_type": "stream",
          "name": "stdout",
          "text": [
            "94\n"
          ]
        },
        {
          "output_type": "stream",
          "name": "stderr",
          "text": [
            "Tokenization: 100%|██████████| 100/100 [00:00<00:00, 86712.92it/s]\n",
            "Inference: 100%|██████████| 1/1 [00:02<00:00,  2.65s/it]\n"
          ]
        },
        {
          "output_type": "stream",
          "name": "stdout",
          "text": [
            "95\n"
          ]
        },
        {
          "output_type": "stream",
          "name": "stderr",
          "text": [
            "Tokenization: 100%|██████████| 100/100 [00:00<00:00, 83752.08it/s]\n",
            "Inference: 100%|██████████| 1/1 [00:02<00:00,  2.76s/it]\n"
          ]
        },
        {
          "output_type": "stream",
          "name": "stdout",
          "text": [
            "96\n"
          ]
        },
        {
          "output_type": "stream",
          "name": "stderr",
          "text": [
            "Tokenization: 100%|██████████| 100/100 [00:00<00:00, 127992.19it/s]\n",
            "Inference: 100%|██████████| 1/1 [00:02<00:00,  2.32s/it]\n"
          ]
        },
        {
          "output_type": "stream",
          "name": "stdout",
          "text": [
            "97\n"
          ]
        },
        {
          "output_type": "stream",
          "name": "stderr",
          "text": [
            "Tokenization: 100%|██████████| 100/100 [00:00<00:00, 143591.37it/s]\n",
            "Inference: 100%|██████████| 1/1 [00:02<00:00,  2.88s/it]\n"
          ]
        },
        {
          "output_type": "stream",
          "name": "stdout",
          "text": [
            "98\n"
          ]
        },
        {
          "output_type": "stream",
          "name": "stderr",
          "text": [
            "Tokenization: 100%|██████████| 100/100 [00:00<00:00, 79603.42it/s]\n",
            "Inference: 100%|██████████| 1/1 [00:03<00:00,  3.85s/it]\n"
          ]
        },
        {
          "output_type": "stream",
          "name": "stdout",
          "text": [
            "99\n"
          ]
        },
        {
          "output_type": "stream",
          "name": "stderr",
          "text": [
            "Tokenization: 100%|██████████| 100/100 [00:00<00:00, 124979.26it/s]\n",
            "Inference: 100%|██████████| 1/1 [00:03<00:00,  3.40s/it]\n"
          ]
        },
        {
          "output_type": "stream",
          "name": "stdout",
          "text": [
            "100\n"
          ]
        },
        {
          "output_type": "stream",
          "name": "stderr",
          "text": [
            "Tokenization: 100%|██████████| 100/100 [00:00<00:00, 131937.84it/s]\n",
            "Inference: 100%|██████████| 1/1 [00:02<00:00,  2.30s/it]\n"
          ]
        },
        {
          "output_type": "stream",
          "name": "stdout",
          "text": [
            "101\n"
          ]
        },
        {
          "output_type": "stream",
          "name": "stderr",
          "text": [
            "Tokenization: 100%|██████████| 100/100 [00:00<00:00, 55355.73it/s]\n",
            "Inference: 100%|██████████| 1/1 [00:05<00:00,  5.58s/it]\n"
          ]
        },
        {
          "output_type": "stream",
          "name": "stdout",
          "text": [
            "102\n"
          ]
        },
        {
          "output_type": "stream",
          "name": "stderr",
          "text": [
            "Tokenization: 100%|██████████| 100/100 [00:00<00:00, 127486.44it/s]\n",
            "Inference: 100%|██████████| 1/1 [00:02<00:00,  2.67s/it]\n"
          ]
        },
        {
          "output_type": "stream",
          "name": "stdout",
          "text": [
            "103\n"
          ]
        },
        {
          "output_type": "stream",
          "name": "stderr",
          "text": [
            "Tokenization: 100%|██████████| 100/100 [00:00<00:00, 80028.70it/s]\n",
            "Inference: 100%|██████████| 1/1 [00:04<00:00,  4.25s/it]\n"
          ]
        },
        {
          "output_type": "stream",
          "name": "stdout",
          "text": [
            "104\n"
          ]
        },
        {
          "output_type": "stream",
          "name": "stderr",
          "text": [
            "Tokenization: 100%|██████████| 100/100 [00:00<00:00, 223101.28it/s]\n",
            "Inference: 100%|██████████| 1/1 [00:02<00:00,  2.35s/it]\n"
          ]
        },
        {
          "output_type": "stream",
          "name": "stdout",
          "text": [
            "105\n"
          ]
        },
        {
          "output_type": "stream",
          "name": "stderr",
          "text": [
            "Tokenization: 100%|██████████| 100/100 [00:00<00:00, 151091.64it/s]\n",
            "Inference: 100%|██████████| 1/1 [00:03<00:00,  3.63s/it]\n"
          ]
        },
        {
          "output_type": "stream",
          "name": "stdout",
          "text": [
            "106\n"
          ]
        },
        {
          "output_type": "stream",
          "name": "stderr",
          "text": [
            "Tokenization: 100%|██████████| 100/100 [00:00<00:00, 141555.99it/s]\n",
            "Inference: 100%|██████████| 1/1 [00:02<00:00,  2.73s/it]\n"
          ]
        },
        {
          "output_type": "stream",
          "name": "stdout",
          "text": [
            "107\n"
          ]
        },
        {
          "output_type": "stream",
          "name": "stderr",
          "text": [
            "Tokenization: 100%|██████████| 100/100 [00:00<00:00, 55007.27it/s]\n",
            "Inference: 100%|██████████| 1/1 [00:02<00:00,  2.42s/it]\n"
          ]
        },
        {
          "output_type": "stream",
          "name": "stdout",
          "text": [
            "108\n"
          ]
        },
        {
          "output_type": "stream",
          "name": "stderr",
          "text": [
            "Tokenization: 100%|██████████| 100/100 [00:00<00:00, 217659.78it/s]\n",
            "Inference: 100%|██████████| 1/1 [00:03<00:00,  3.58s/it]\n"
          ]
        },
        {
          "output_type": "stream",
          "name": "stdout",
          "text": [
            "109\n"
          ]
        },
        {
          "output_type": "stream",
          "name": "stderr",
          "text": [
            "Tokenization: 100%|██████████| 100/100 [00:00<00:00, 196915.68it/s]\n",
            "Inference: 100%|██████████| 1/1 [00:06<00:00,  6.60s/it]\n"
          ]
        },
        {
          "output_type": "stream",
          "name": "stdout",
          "text": [
            "110\n"
          ]
        },
        {
          "output_type": "stream",
          "name": "stderr",
          "text": [
            "Tokenization: 100%|██████████| 100/100 [00:00<00:00, 153188.60it/s]\n",
            "Inference: 100%|██████████| 1/1 [00:02<00:00,  2.86s/it]\n"
          ]
        },
        {
          "output_type": "stream",
          "name": "stdout",
          "text": [
            "111\n"
          ]
        },
        {
          "output_type": "stream",
          "name": "stderr",
          "text": [
            "Tokenization: 100%|██████████| 100/100 [00:00<00:00, 129653.91it/s]\n",
            "Inference: 100%|██████████| 1/1 [00:04<00:00,  4.92s/it]\n"
          ]
        },
        {
          "output_type": "stream",
          "name": "stdout",
          "text": [
            "112\n"
          ]
        },
        {
          "output_type": "stream",
          "name": "stderr",
          "text": [
            "Tokenization: 100%|██████████| 100/100 [00:00<00:00, 212477.41it/s]\n",
            "Inference: 100%|██████████| 1/1 [00:03<00:00,  3.87s/it]\n"
          ]
        },
        {
          "output_type": "stream",
          "name": "stdout",
          "text": [
            "113\n"
          ]
        },
        {
          "output_type": "stream",
          "name": "stderr",
          "text": [
            "Tokenization: 100%|██████████| 100/100 [00:00<00:00, 82225.13it/s]\n",
            "Inference: 100%|██████████| 1/1 [00:02<00:00,  2.98s/it]\n"
          ]
        },
        {
          "output_type": "stream",
          "name": "stdout",
          "text": [
            "114\n"
          ]
        },
        {
          "output_type": "stream",
          "name": "stderr",
          "text": [
            "Tokenization: 100%|██████████| 100/100 [00:00<00:00, 86605.49it/s]\n",
            "Inference: 100%|██████████| 1/1 [00:02<00:00,  2.48s/it]\n"
          ]
        },
        {
          "output_type": "stream",
          "name": "stdout",
          "text": [
            "115\n"
          ]
        },
        {
          "output_type": "stream",
          "name": "stderr",
          "text": [
            "Tokenization: 100%|██████████| 100/100 [00:00<00:00, 147842.93it/s]\n",
            "Inference: 100%|██████████| 1/1 [00:02<00:00,  2.97s/it]\n"
          ]
        },
        {
          "output_type": "stream",
          "name": "stdout",
          "text": [
            "116\n"
          ]
        },
        {
          "output_type": "stream",
          "name": "stderr",
          "text": [
            "Tokenization: 100%|██████████| 100/100 [00:00<00:00, 151583.09it/s]\n",
            "Inference: 100%|██████████| 1/1 [00:03<00:00,  3.69s/it]\n"
          ]
        },
        {
          "output_type": "stream",
          "name": "stdout",
          "text": [
            "117\n"
          ]
        },
        {
          "output_type": "stream",
          "name": "stderr",
          "text": [
            "Tokenization: 100%|██████████| 100/100 [00:00<00:00, 78106.22it/s]\n",
            "Inference: 100%|██████████| 1/1 [00:03<00:00,  3.70s/it]\n"
          ]
        },
        {
          "output_type": "stream",
          "name": "stdout",
          "text": [
            "118\n"
          ]
        },
        {
          "output_type": "stream",
          "name": "stderr",
          "text": [
            "Tokenization: 100%|██████████| 100/100 [00:00<00:00, 147530.92it/s]\n",
            "Inference: 100%|██████████| 1/1 [00:03<00:00,  3.36s/it]\n"
          ]
        },
        {
          "output_type": "stream",
          "name": "stdout",
          "text": [
            "119\n"
          ]
        },
        {
          "output_type": "stream",
          "name": "stderr",
          "text": [
            "Tokenization: 100%|██████████| 100/100 [00:00<00:00, 132312.43it/s]\n",
            "Inference: 100%|██████████| 1/1 [00:04<00:00,  4.92s/it]\n"
          ]
        },
        {
          "output_type": "stream",
          "name": "stdout",
          "text": [
            "120\n"
          ]
        },
        {
          "output_type": "stream",
          "name": "stderr",
          "text": [
            "Tokenization: 100%|██████████| 100/100 [00:00<00:00, 64211.64it/s]\n",
            "Inference: 100%|██████████| 1/1 [00:03<00:00,  3.65s/it]\n"
          ]
        },
        {
          "output_type": "stream",
          "name": "stdout",
          "text": [
            "121\n"
          ]
        },
        {
          "output_type": "stream",
          "name": "stderr",
          "text": [
            "Tokenization: 100%|██████████| 100/100 [00:00<00:00, 138197.83it/s]\n",
            "Inference: 100%|██████████| 1/1 [00:03<00:00,  3.60s/it]\n"
          ]
        },
        {
          "output_type": "stream",
          "name": "stdout",
          "text": [
            "122\n"
          ]
        },
        {
          "output_type": "stream",
          "name": "stderr",
          "text": [
            "Tokenization: 100%|██████████| 100/100 [00:00<00:00, 143837.59it/s]\n",
            "Inference: 100%|██████████| 1/1 [00:02<00:00,  2.64s/it]\n"
          ]
        },
        {
          "output_type": "stream",
          "name": "stdout",
          "text": [
            "123\n"
          ]
        },
        {
          "output_type": "stream",
          "name": "stderr",
          "text": [
            "Tokenization: 100%|██████████| 100/100 [00:00<00:00, 45565.50it/s]\n",
            "Inference: 100%|██████████| 1/1 [00:07<00:00,  7.42s/it]\n"
          ]
        },
        {
          "output_type": "stream",
          "name": "stdout",
          "text": [
            "124\n"
          ]
        },
        {
          "output_type": "stream",
          "name": "stderr",
          "text": [
            "Tokenization: 100%|██████████| 100/100 [00:00<00:00, 153076.79it/s]\n",
            "Inference: 100%|██████████| 1/1 [00:02<00:00,  2.30s/it]\n"
          ]
        },
        {
          "output_type": "stream",
          "name": "stdout",
          "text": [
            "125\n"
          ]
        },
        {
          "output_type": "stream",
          "name": "stderr",
          "text": [
            "Tokenization: 100%|██████████| 100/100 [00:00<00:00, 138792.32it/s]\n",
            "Inference: 100%|██████████| 1/1 [00:03<00:00,  3.65s/it]\n"
          ]
        },
        {
          "output_type": "stream",
          "name": "stdout",
          "text": [
            "126\n"
          ]
        },
        {
          "output_type": "stream",
          "name": "stderr",
          "text": [
            "Tokenization: 100%|██████████| 100/100 [00:00<00:00, 85510.78it/s]\n",
            "Inference: 100%|██████████| 1/1 [00:02<00:00,  2.30s/it]\n"
          ]
        },
        {
          "output_type": "stream",
          "name": "stdout",
          "text": [
            "127\n"
          ]
        },
        {
          "output_type": "stream",
          "name": "stderr",
          "text": [
            "Tokenization: 100%|██████████| 100/100 [00:00<00:00, 83071.97it/s]\n",
            "Inference: 100%|██████████| 1/1 [00:05<00:00,  5.10s/it]\n"
          ]
        },
        {
          "output_type": "stream",
          "name": "stdout",
          "text": [
            "128\n"
          ]
        },
        {
          "output_type": "stream",
          "name": "stderr",
          "text": [
            "Tokenization: 100%|██████████| 100/100 [00:00<00:00, 77200.52it/s]\n",
            "Inference: 100%|██████████| 1/1 [00:04<00:00,  4.35s/it]\n"
          ]
        },
        {
          "output_type": "stream",
          "name": "stdout",
          "text": [
            "129\n"
          ]
        },
        {
          "output_type": "stream",
          "name": "stderr",
          "text": [
            "Tokenization: 100%|██████████| 100/100 [00:00<00:00, 136090.33it/s]\n",
            "Inference: 100%|██████████| 1/1 [00:08<00:00,  8.30s/it]\n"
          ]
        },
        {
          "output_type": "stream",
          "name": "stdout",
          "text": [
            "130\n"
          ]
        },
        {
          "output_type": "stream",
          "name": "stderr",
          "text": [
            "Tokenization: 100%|██████████| 100/100 [00:00<00:00, 147065.36it/s]\n",
            "Inference: 100%|██████████| 1/1 [00:03<00:00,  3.98s/it]\n"
          ]
        },
        {
          "output_type": "stream",
          "name": "stdout",
          "text": [
            "131\n"
          ]
        },
        {
          "output_type": "stream",
          "name": "stderr",
          "text": [
            "Tokenization: 100%|██████████| 100/100 [00:00<00:00, 197008.17it/s]\n",
            "Inference: 100%|██████████| 1/1 [00:06<00:00,  6.24s/it]\n"
          ]
        },
        {
          "output_type": "stream",
          "name": "stdout",
          "text": [
            "132\n"
          ]
        },
        {
          "output_type": "stream",
          "name": "stderr",
          "text": [
            "Tokenization: 100%|██████████| 100/100 [00:00<00:00, 50195.12it/s]\n",
            "Inference: 100%|██████████| 1/1 [00:03<00:00,  3.97s/it]\n"
          ]
        },
        {
          "output_type": "stream",
          "name": "stdout",
          "text": [
            "133\n"
          ]
        },
        {
          "output_type": "stream",
          "name": "stderr",
          "text": [
            "Tokenization: 100%|██████████| 100/100 [00:00<00:00, 61881.14it/s]\n",
            "Inference: 100%|██████████| 1/1 [00:02<00:00,  2.87s/it]\n"
          ]
        },
        {
          "output_type": "stream",
          "name": "stdout",
          "text": [
            "134\n"
          ]
        },
        {
          "output_type": "stream",
          "name": "stderr",
          "text": [
            "Tokenization: 100%|██████████| 100/100 [00:00<00:00, 59141.34it/s]\n",
            "Inference: 100%|██████████| 1/1 [00:02<00:00,  2.41s/it]\n"
          ]
        },
        {
          "output_type": "stream",
          "name": "stdout",
          "text": [
            "135\n"
          ]
        },
        {
          "output_type": "stream",
          "name": "stderr",
          "text": [
            "Tokenization: 100%|██████████| 100/100 [00:00<00:00, 77200.52it/s]\n",
            "Inference: 100%|██████████| 1/1 [00:02<00:00,  2.90s/it]\n"
          ]
        },
        {
          "output_type": "stream",
          "name": "stdout",
          "text": [
            "136\n"
          ]
        },
        {
          "output_type": "stream",
          "name": "stderr",
          "text": [
            "Tokenization: 100%|██████████| 100/100 [00:00<00:00, 57088.66it/s]\n",
            "Inference: 100%|██████████| 1/1 [00:04<00:00,  4.31s/it]\n"
          ]
        },
        {
          "output_type": "stream",
          "name": "stdout",
          "text": [
            "137\n"
          ]
        },
        {
          "output_type": "stream",
          "name": "stderr",
          "text": [
            "Tokenization: 100%|██████████| 100/100 [00:00<00:00, 54295.20it/s]\n",
            "Inference: 100%|██████████| 1/1 [00:04<00:00,  4.92s/it]\n"
          ]
        },
        {
          "output_type": "stream",
          "name": "stdout",
          "text": [
            "138\n"
          ]
        },
        {
          "output_type": "stream",
          "name": "stderr",
          "text": [
            "Tokenization: 100%|██████████| 100/100 [00:00<00:00, 148261.01it/s]\n",
            "Inference: 100%|██████████| 1/1 [00:03<00:00,  3.34s/it]\n"
          ]
        },
        {
          "output_type": "stream",
          "name": "stdout",
          "text": [
            "139\n"
          ]
        },
        {
          "output_type": "stream",
          "name": "stderr",
          "text": [
            "Tokenization: 100%|██████████| 100/100 [00:00<00:00, 137608.40it/s]\n",
            "Inference: 100%|██████████| 1/1 [00:06<00:00,  6.33s/it]\n"
          ]
        },
        {
          "output_type": "stream",
          "name": "stdout",
          "text": [
            "140\n"
          ]
        },
        {
          "output_type": "stream",
          "name": "stderr",
          "text": [
            "Tokenization: 100%|██████████| 100/100 [00:00<00:00, 143739.00it/s]\n",
            "Inference: 100%|██████████| 1/1 [00:02<00:00,  2.95s/it]\n"
          ]
        },
        {
          "output_type": "stream",
          "name": "stdout",
          "text": [
            "141\n"
          ]
        },
        {
          "output_type": "stream",
          "name": "stderr",
          "text": [
            "Tokenization: 100%|██████████| 100/100 [00:00<00:00, 133917.75it/s]\n",
            "Inference: 100%|██████████| 1/1 [00:05<00:00,  5.57s/it]\n"
          ]
        },
        {
          "output_type": "stream",
          "name": "stdout",
          "text": [
            "142\n"
          ]
        },
        {
          "output_type": "stream",
          "name": "stderr",
          "text": [
            "Tokenization: 100%|██████████| 100/100 [00:00<00:00, 79815.49it/s]\n",
            "Inference: 100%|██████████| 1/1 [00:05<00:00,  5.52s/it]\n"
          ]
        },
        {
          "output_type": "stream",
          "name": "stdout",
          "text": [
            "143\n"
          ]
        },
        {
          "output_type": "stream",
          "name": "stderr",
          "text": [
            "Tokenization: 100%|██████████| 100/100 [00:00<00:00, 135212.89it/s]\n",
            "Inference: 100%|██████████| 1/1 [00:05<00:00,  5.01s/it]\n"
          ]
        },
        {
          "output_type": "stream",
          "name": "stdout",
          "text": [
            "144\n"
          ]
        },
        {
          "output_type": "stream",
          "name": "stderr",
          "text": [
            "Tokenization: 100%|██████████| 100/100 [00:00<00:00, 138288.95it/s]\n",
            "Inference: 100%|██████████| 1/1 [00:03<00:00,  3.17s/it]\n"
          ]
        },
        {
          "output_type": "stream",
          "name": "stdout",
          "text": [
            "145\n"
          ]
        },
        {
          "output_type": "stream",
          "name": "stderr",
          "text": [
            "Tokenization: 100%|██████████| 100/100 [00:00<00:00, 119393.79it/s]\n",
            "Inference: 100%|██████████| 1/1 [00:04<00:00,  4.42s/it]\n"
          ]
        },
        {
          "output_type": "stream",
          "name": "stdout",
          "text": [
            "146\n"
          ]
        },
        {
          "output_type": "stream",
          "name": "stderr",
          "text": [
            "Tokenization: 100%|██████████| 100/100 [00:00<00:00, 134995.30it/s]\n",
            "Inference: 100%|██████████| 1/1 [00:02<00:00,  2.82s/it]\n"
          ]
        },
        {
          "output_type": "stream",
          "name": "stdout",
          "text": [
            "147\n"
          ]
        },
        {
          "output_type": "stream",
          "name": "stderr",
          "text": [
            "Tokenization: 100%|██████████| 100/100 [00:00<00:00, 135431.19it/s]\n",
            "Inference: 100%|██████████| 1/1 [00:03<00:00,  3.58s/it]\n"
          ]
        },
        {
          "output_type": "stream",
          "name": "stdout",
          "text": [
            "148\n"
          ]
        },
        {
          "output_type": "stream",
          "name": "stderr",
          "text": [
            "Tokenization: 100%|██████████| 100/100 [00:00<00:00, 190823.66it/s]\n",
            "Inference: 100%|██████████| 1/1 [00:04<00:00,  4.32s/it]\n"
          ]
        },
        {
          "output_type": "stream",
          "name": "stdout",
          "text": [
            "149\n"
          ]
        },
        {
          "output_type": "stream",
          "name": "stderr",
          "text": [
            "Tokenization: 100%|██████████| 100/100 [00:00<00:00, 73739.52it/s]\n",
            "Inference: 100%|██████████| 1/1 [00:05<00:00,  5.41s/it]\n"
          ]
        },
        {
          "output_type": "stream",
          "name": "stdout",
          "text": [
            "150\n"
          ]
        },
        {
          "output_type": "stream",
          "name": "stderr",
          "text": [
            "Tokenization: 100%|██████████| 100/100 [00:00<00:00, 138471.57it/s]\n",
            "Inference: 100%|██████████| 1/1 [00:02<00:00,  2.38s/it]\n"
          ]
        },
        {
          "output_type": "stream",
          "name": "stdout",
          "text": [
            "151\n"
          ]
        },
        {
          "output_type": "stream",
          "name": "stderr",
          "text": [
            "Tokenization: 100%|██████████| 100/100 [00:00<00:00, 80582.21it/s]\n",
            "Inference: 100%|██████████| 1/1 [00:04<00:00,  4.63s/it]\n"
          ]
        },
        {
          "output_type": "stream",
          "name": "stdout",
          "text": [
            "152\n"
          ]
        },
        {
          "output_type": "stream",
          "name": "stderr",
          "text": [
            "Tokenization: 100%|██████████| 100/100 [00:00<00:00, 83319.51it/s]\n",
            "Inference: 100%|██████████| 1/1 [00:03<00:00,  3.32s/it]\n"
          ]
        },
        {
          "output_type": "stream",
          "name": "stdout",
          "text": [
            "153\n"
          ]
        },
        {
          "output_type": "stream",
          "name": "stderr",
          "text": [
            "Tokenization: 100%|██████████| 100/100 [00:00<00:00, 128620.18it/s]\n",
            "Inference: 100%|██████████| 1/1 [00:05<00:00,  5.72s/it]\n"
          ]
        },
        {
          "output_type": "stream",
          "name": "stdout",
          "text": [
            "154\n"
          ]
        },
        {
          "output_type": "stream",
          "name": "stderr",
          "text": [
            "Tokenization: 100%|██████████| 100/100 [00:00<00:00, 82891.38it/s]\n",
            "Inference: 100%|██████████| 1/1 [00:04<00:00,  4.55s/it]\n"
          ]
        },
        {
          "output_type": "stream",
          "name": "stdout",
          "text": [
            "155\n"
          ]
        },
        {
          "output_type": "stream",
          "name": "stderr",
          "text": [
            "Tokenization: 100%|██████████| 100/100 [00:00<00:00, 78004.54it/s]\n",
            "Inference: 100%|██████████| 1/1 [00:04<00:00,  4.93s/it]\n"
          ]
        },
        {
          "output_type": "stream",
          "name": "stdout",
          "text": [
            "156\n"
          ]
        },
        {
          "output_type": "stream",
          "name": "stderr",
          "text": [
            "Tokenization: 100%|██████████| 100/100 [00:00<00:00, 47111.13it/s]\n",
            "Inference: 100%|██████████| 1/1 [00:02<00:00,  2.78s/it]\n"
          ]
        },
        {
          "output_type": "stream",
          "name": "stdout",
          "text": [
            "157\n"
          ]
        },
        {
          "output_type": "stream",
          "name": "stderr",
          "text": [
            "Tokenization: 100%|██████████| 100/100 [00:00<00:00, 129573.80it/s]\n",
            "Inference: 100%|██████████| 1/1 [00:06<00:00,  6.31s/it]\n"
          ]
        },
        {
          "output_type": "stream",
          "name": "stdout",
          "text": [
            "158\n"
          ]
        },
        {
          "output_type": "stream",
          "name": "stderr",
          "text": [
            "Tokenization: 100%|██████████| 100/100 [00:00<00:00, 106752.46it/s]\n",
            "Inference: 100%|██████████| 1/1 [00:02<00:00,  2.77s/it]\n"
          ]
        },
        {
          "output_type": "stream",
          "name": "stdout",
          "text": [
            "159\n"
          ]
        },
        {
          "output_type": "stream",
          "name": "stderr",
          "text": [
            "Tokenization: 100%|██████████| 100/100 [00:00<00:00, 59952.89it/s]\n",
            "Inference: 100%|██████████| 1/1 [00:05<00:00,  5.11s/it]\n"
          ]
        },
        {
          "output_type": "execute_result",
          "data": {
            "text/plain": [
              "    item condition has_BEI is_match  total_VC_prob  mean_prob  median_prob  \\\n",
              "0      1         1       1        1       0.104493   0.004750     0.002030   \n",
              "1      1         2       0        1       0.009107   0.001821     0.001167   \n",
              "2      1         3       1        0       0.033382   0.003035     0.001344   \n",
              "3      1         4       0        0       0.001032   0.000344     0.000236   \n",
              "4      2         1       1        1       0.315907   0.009872     0.001561   \n",
              "..   ...       ...     ...      ...            ...        ...          ...   \n",
              "155   39         4       0        0       0.000000   0.000000     0.000000   \n",
              "156   40         1       1        1       0.153845   0.003945     0.001443   \n",
              "157   40         2       0        1       0.000389   0.000389     0.000389   \n",
              "158   40         3       1        0       0.109241   0.004202     0.001345   \n",
              "159   40         4       0        0       0.000306   0.000306     0.000306   \n",
              "\n",
              "     min_prob min_word  max_prob max_word max_rank count_n  \n",
              "0    0.001063        撞  0.049660        踢        3      22  \n",
              "1    0.000938        展  0.003503        踢       37       5  \n",
              "2    0.000763        吹  0.014372        踢        9      11  \n",
              "3    0.000130        踢  0.000665        架       30       3  \n",
              "4    0.000780       跟踪  0.176515        咬        0      32  \n",
              "..        ...      ...       ...      ...      ...     ...  \n",
              "155  0.000000        0  0.000000        0        0       0  \n",
              "156  0.000629        操  0.077624        咬        2      39  \n",
              "157  0.000389      的衣服  0.000389      的衣服       58       1  \n",
              "158  0.000728        踢  0.047583        咬        5      26  \n",
              "159  0.000306      的衣服  0.000306      的衣服       83       1  \n",
              "\n",
              "[160 rows x 13 columns]"
            ],
            "text/html": [
              "\n",
              "  <div id=\"df-7a3bbdee-22c5-460a-954d-7ded19c5b3e2\">\n",
              "    <div class=\"colab-df-container\">\n",
              "      <div>\n",
              "<style scoped>\n",
              "    .dataframe tbody tr th:only-of-type {\n",
              "        vertical-align: middle;\n",
              "    }\n",
              "\n",
              "    .dataframe tbody tr th {\n",
              "        vertical-align: top;\n",
              "    }\n",
              "\n",
              "    .dataframe thead th {\n",
              "        text-align: right;\n",
              "    }\n",
              "</style>\n",
              "<table border=\"1\" class=\"dataframe\">\n",
              "  <thead>\n",
              "    <tr style=\"text-align: right;\">\n",
              "      <th></th>\n",
              "      <th>item</th>\n",
              "      <th>condition</th>\n",
              "      <th>has_BEI</th>\n",
              "      <th>is_match</th>\n",
              "      <th>total_VC_prob</th>\n",
              "      <th>mean_prob</th>\n",
              "      <th>median_prob</th>\n",
              "      <th>min_prob</th>\n",
              "      <th>min_word</th>\n",
              "      <th>max_prob</th>\n",
              "      <th>max_word</th>\n",
              "      <th>max_rank</th>\n",
              "      <th>count_n</th>\n",
              "    </tr>\n",
              "  </thead>\n",
              "  <tbody>\n",
              "    <tr>\n",
              "      <th>0</th>\n",
              "      <td>1</td>\n",
              "      <td>1</td>\n",
              "      <td>1</td>\n",
              "      <td>1</td>\n",
              "      <td>0.104493</td>\n",
              "      <td>0.004750</td>\n",
              "      <td>0.002030</td>\n",
              "      <td>0.001063</td>\n",
              "      <td>撞</td>\n",
              "      <td>0.049660</td>\n",
              "      <td>踢</td>\n",
              "      <td>3</td>\n",
              "      <td>22</td>\n",
              "    </tr>\n",
              "    <tr>\n",
              "      <th>1</th>\n",
              "      <td>1</td>\n",
              "      <td>2</td>\n",
              "      <td>0</td>\n",
              "      <td>1</td>\n",
              "      <td>0.009107</td>\n",
              "      <td>0.001821</td>\n",
              "      <td>0.001167</td>\n",
              "      <td>0.000938</td>\n",
              "      <td>展</td>\n",
              "      <td>0.003503</td>\n",
              "      <td>踢</td>\n",
              "      <td>37</td>\n",
              "      <td>5</td>\n",
              "    </tr>\n",
              "    <tr>\n",
              "      <th>2</th>\n",
              "      <td>1</td>\n",
              "      <td>3</td>\n",
              "      <td>1</td>\n",
              "      <td>0</td>\n",
              "      <td>0.033382</td>\n",
              "      <td>0.003035</td>\n",
              "      <td>0.001344</td>\n",
              "      <td>0.000763</td>\n",
              "      <td>吹</td>\n",
              "      <td>0.014372</td>\n",
              "      <td>踢</td>\n",
              "      <td>9</td>\n",
              "      <td>11</td>\n",
              "    </tr>\n",
              "    <tr>\n",
              "      <th>3</th>\n",
              "      <td>1</td>\n",
              "      <td>4</td>\n",
              "      <td>0</td>\n",
              "      <td>0</td>\n",
              "      <td>0.001032</td>\n",
              "      <td>0.000344</td>\n",
              "      <td>0.000236</td>\n",
              "      <td>0.000130</td>\n",
              "      <td>踢</td>\n",
              "      <td>0.000665</td>\n",
              "      <td>架</td>\n",
              "      <td>30</td>\n",
              "      <td>3</td>\n",
              "    </tr>\n",
              "    <tr>\n",
              "      <th>4</th>\n",
              "      <td>2</td>\n",
              "      <td>1</td>\n",
              "      <td>1</td>\n",
              "      <td>1</td>\n",
              "      <td>0.315907</td>\n",
              "      <td>0.009872</td>\n",
              "      <td>0.001561</td>\n",
              "      <td>0.000780</td>\n",
              "      <td>跟踪</td>\n",
              "      <td>0.176515</td>\n",
              "      <td>咬</td>\n",
              "      <td>0</td>\n",
              "      <td>32</td>\n",
              "    </tr>\n",
              "    <tr>\n",
              "      <th>...</th>\n",
              "      <td>...</td>\n",
              "      <td>...</td>\n",
              "      <td>...</td>\n",
              "      <td>...</td>\n",
              "      <td>...</td>\n",
              "      <td>...</td>\n",
              "      <td>...</td>\n",
              "      <td>...</td>\n",
              "      <td>...</td>\n",
              "      <td>...</td>\n",
              "      <td>...</td>\n",
              "      <td>...</td>\n",
              "      <td>...</td>\n",
              "    </tr>\n",
              "    <tr>\n",
              "      <th>155</th>\n",
              "      <td>39</td>\n",
              "      <td>4</td>\n",
              "      <td>0</td>\n",
              "      <td>0</td>\n",
              "      <td>0.000000</td>\n",
              "      <td>0.000000</td>\n",
              "      <td>0.000000</td>\n",
              "      <td>0.000000</td>\n",
              "      <td>0</td>\n",
              "      <td>0.000000</td>\n",
              "      <td>0</td>\n",
              "      <td>0</td>\n",
              "      <td>0</td>\n",
              "    </tr>\n",
              "    <tr>\n",
              "      <th>156</th>\n",
              "      <td>40</td>\n",
              "      <td>1</td>\n",
              "      <td>1</td>\n",
              "      <td>1</td>\n",
              "      <td>0.153845</td>\n",
              "      <td>0.003945</td>\n",
              "      <td>0.001443</td>\n",
              "      <td>0.000629</td>\n",
              "      <td>操</td>\n",
              "      <td>0.077624</td>\n",
              "      <td>咬</td>\n",
              "      <td>2</td>\n",
              "      <td>39</td>\n",
              "    </tr>\n",
              "    <tr>\n",
              "      <th>157</th>\n",
              "      <td>40</td>\n",
              "      <td>2</td>\n",
              "      <td>0</td>\n",
              "      <td>1</td>\n",
              "      <td>0.000389</td>\n",
              "      <td>0.000389</td>\n",
              "      <td>0.000389</td>\n",
              "      <td>0.000389</td>\n",
              "      <td>的衣服</td>\n",
              "      <td>0.000389</td>\n",
              "      <td>的衣服</td>\n",
              "      <td>58</td>\n",
              "      <td>1</td>\n",
              "    </tr>\n",
              "    <tr>\n",
              "      <th>158</th>\n",
              "      <td>40</td>\n",
              "      <td>3</td>\n",
              "      <td>1</td>\n",
              "      <td>0</td>\n",
              "      <td>0.109241</td>\n",
              "      <td>0.004202</td>\n",
              "      <td>0.001345</td>\n",
              "      <td>0.000728</td>\n",
              "      <td>踢</td>\n",
              "      <td>0.047583</td>\n",
              "      <td>咬</td>\n",
              "      <td>5</td>\n",
              "      <td>26</td>\n",
              "    </tr>\n",
              "    <tr>\n",
              "      <th>159</th>\n",
              "      <td>40</td>\n",
              "      <td>4</td>\n",
              "      <td>0</td>\n",
              "      <td>0</td>\n",
              "      <td>0.000306</td>\n",
              "      <td>0.000306</td>\n",
              "      <td>0.000306</td>\n",
              "      <td>0.000306</td>\n",
              "      <td>的衣服</td>\n",
              "      <td>0.000306</td>\n",
              "      <td>的衣服</td>\n",
              "      <td>83</td>\n",
              "      <td>1</td>\n",
              "    </tr>\n",
              "  </tbody>\n",
              "</table>\n",
              "<p>160 rows × 13 columns</p>\n",
              "</div>\n",
              "      <button class=\"colab-df-convert\" onclick=\"convertToInteractive('df-7a3bbdee-22c5-460a-954d-7ded19c5b3e2')\"\n",
              "              title=\"Convert this dataframe to an interactive table.\"\n",
              "              style=\"display:none;\">\n",
              "        \n",
              "  <svg xmlns=\"http://www.w3.org/2000/svg\" height=\"24px\"viewBox=\"0 0 24 24\"\n",
              "       width=\"24px\">\n",
              "    <path d=\"M0 0h24v24H0V0z\" fill=\"none\"/>\n",
              "    <path d=\"M18.56 5.44l.94 2.06.94-2.06 2.06-.94-2.06-.94-.94-2.06-.94 2.06-2.06.94zm-11 1L8.5 8.5l.94-2.06 2.06-.94-2.06-.94L8.5 2.5l-.94 2.06-2.06.94zm10 10l.94 2.06.94-2.06 2.06-.94-2.06-.94-.94-2.06-.94 2.06-2.06.94z\"/><path d=\"M17.41 7.96l-1.37-1.37c-.4-.4-.92-.59-1.43-.59-.52 0-1.04.2-1.43.59L10.3 9.45l-7.72 7.72c-.78.78-.78 2.05 0 2.83L4 21.41c.39.39.9.59 1.41.59.51 0 1.02-.2 1.41-.59l7.78-7.78 2.81-2.81c.8-.78.8-2.07 0-2.86zM5.41 20L4 18.59l7.72-7.72 1.47 1.35L5.41 20z\"/>\n",
              "  </svg>\n",
              "      </button>\n",
              "      \n",
              "  <style>\n",
              "    .colab-df-container {\n",
              "      display:flex;\n",
              "      flex-wrap:wrap;\n",
              "      gap: 12px;\n",
              "    }\n",
              "\n",
              "    .colab-df-convert {\n",
              "      background-color: #E8F0FE;\n",
              "      border: none;\n",
              "      border-radius: 50%;\n",
              "      cursor: pointer;\n",
              "      display: none;\n",
              "      fill: #1967D2;\n",
              "      height: 32px;\n",
              "      padding: 0 0 0 0;\n",
              "      width: 32px;\n",
              "    }\n",
              "\n",
              "    .colab-df-convert:hover {\n",
              "      background-color: #E2EBFA;\n",
              "      box-shadow: 0px 1px 2px rgba(60, 64, 67, 0.3), 0px 1px 3px 1px rgba(60, 64, 67, 0.15);\n",
              "      fill: #174EA6;\n",
              "    }\n",
              "\n",
              "    [theme=dark] .colab-df-convert {\n",
              "      background-color: #3B4455;\n",
              "      fill: #D2E3FC;\n",
              "    }\n",
              "\n",
              "    [theme=dark] .colab-df-convert:hover {\n",
              "      background-color: #434B5C;\n",
              "      box-shadow: 0px 1px 3px 1px rgba(0, 0, 0, 0.15);\n",
              "      filter: drop-shadow(0px 1px 2px rgba(0, 0, 0, 0.3));\n",
              "      fill: #FFFFFF;\n",
              "    }\n",
              "  </style>\n",
              "\n",
              "      <script>\n",
              "        const buttonEl =\n",
              "          document.querySelector('#df-7a3bbdee-22c5-460a-954d-7ded19c5b3e2 button.colab-df-convert');\n",
              "        buttonEl.style.display =\n",
              "          google.colab.kernel.accessAllowed ? 'block' : 'none';\n",
              "\n",
              "        async function convertToInteractive(key) {\n",
              "          const element = document.querySelector('#df-7a3bbdee-22c5-460a-954d-7ded19c5b3e2');\n",
              "          const dataTable =\n",
              "            await google.colab.kernel.invokeFunction('convertToInteractive',\n",
              "                                                     [key], {});\n",
              "          if (!dataTable) return;\n",
              "\n",
              "          const docLinkHtml = 'Like what you see? Visit the ' +\n",
              "            '<a target=\"_blank\" href=https://colab.research.google.com/notebooks/data_table.ipynb>data table notebook</a>'\n",
              "            + ' to learn more about interactive tables.';\n",
              "          element.innerHTML = '';\n",
              "          dataTable['output_type'] = 'display_data';\n",
              "          await google.colab.output.renderOutput(dataTable, element);\n",
              "          const docLink = document.createElement('div');\n",
              "          docLink.innerHTML = docLinkHtml;\n",
              "          element.appendChild(docLink);\n",
              "        }\n",
              "      </script>\n",
              "    </div>\n",
              "  </div>\n",
              "  "
            ]
          },
          "metadata": {},
          "execution_count": 43
        }
      ]
    },
    {
      "cell_type": "code",
      "source": [
        "# save results\n",
        "results_VC.to_csv('results_VC.csv',encoding=\"utf_8_sig\")"
      ],
      "metadata": {
        "id": "fJXzoiWG1jvk"
      },
      "execution_count": null,
      "outputs": []
    },
    {
      "cell_type": "code",
      "source": [
        "#results_NA = get_results(df, target='Na')"
      ],
      "metadata": {
        "id": "fSyQ3kpP1_1S"
      },
      "execution_count": null,
      "outputs": []
    },
    {
      "cell_type": "code",
      "source": [
        "import matplotlib.pyplot as plt\n",
        "import seaborn as sns"
      ],
      "metadata": {
        "id": "TqmvAxPeAEFp"
      },
      "execution_count": null,
      "outputs": []
    },
    {
      "cell_type": "code",
      "source": [
        "# visualizations\n",
        "sns.histplot(data=results_VC, x=\"total_VC_prob\", hue=\"has_BEI\")"
      ],
      "metadata": {
        "colab": {
          "base_uri": "https://localhost:8080/",
          "height": 298
        },
        "id": "axMUSVNM_2WL",
        "outputId": "440c2a1b-55d8-406f-88e7-c622f06fd1f9"
      },
      "execution_count": null,
      "outputs": [
        {
          "output_type": "execute_result",
          "data": {
            "text/plain": [
              "<AxesSubplot:xlabel='total_VC_prob', ylabel='Count'>"
            ]
          },
          "metadata": {},
          "execution_count": 24
        },
        {
          "output_type": "display_data",
          "data": {
            "text/plain": [
              "<Figure size 432x288 with 1 Axes>"
            ],
            "image/png": "[encoded data removed]"
          },
          "metadata": {
            "needs_background": "light"
          }
        }
      ]
    },
    {
      "cell_type": "code",
      "source": [
        "sns.boxplot(x='has_BEI',\n",
        "            y='total_VC_prob',\n",
        "            data=results_VC,\n",
        "            orient='v',\n",
        "            palette='Blues'\n",
        "           )"
      ],
      "metadata": {
        "colab": {
          "base_uri": "https://localhost:8080/",
          "height": 298
        },
        "id": "5ZyoI5aDAjGI",
        "outputId": "2558023c-b174-44ef-a361-53aa26715b6b"
      },
      "execution_count": null,
      "outputs": [
        {
          "output_type": "execute_result",
          "data": {
            "text/plain": [
              "<AxesSubplot:xlabel='has_BEI', ylabel='total_VC_prob'>"
            ]
          },
          "metadata": {},
          "execution_count": 65
        },
        {
          "output_type": "display_data",
          "data": {
            "text/plain": [
              "<Figure size 432x288 with 1 Axes>"
            ],
            "image/png": "[encoded data removed]"
          },
          "metadata": {
            "needs_background": "light"
          }
        }
      ]
    },
    {
      "cell_type": "code",
      "source": [
        "sns.histplot(data=results_VC, x=\"total_VC_prob\", hue=\"is_match\")"
      ],
      "metadata": {
        "colab": {
          "base_uri": "https://localhost:8080/",
          "height": 298
        },
        "id": "zkWhL3A_ASwa",
        "outputId": "23400150-0ded-4af0-ee86-13d7a22725b3"
      },
      "execution_count": null,
      "outputs": [
        {
          "output_type": "execute_result",
          "data": {
            "text/plain": [
              "<AxesSubplot:xlabel='total_VC_prob', ylabel='Count'>"
            ]
          },
          "metadata": {},
          "execution_count": 64
        },
        {
          "output_type": "display_data",
          "data": {
            "text/plain": [
              "<Figure size 432x288 with 1 Axes>"
            ],
            "image/png": "[encoded data removed]"
          },
          "metadata": {
            "needs_background": "light"
          }
        }
      ]
    },
    {
      "cell_type": "code",
      "source": [
        "sns.boxplot(x='is_match',\n",
        "            y='total_VC_prob',\n",
        "            data=results_VC,\n",
        "            orient='v',\n",
        "            palette='Blues'\n",
        "           )"
      ],
      "metadata": {
        "id": "nKz95bFuA1vF",
        "outputId": "681ebba4-173a-49ae-be08-d2dd340d6e2e",
        "colab": {
          "base_uri": "https://localhost:8080/",
          "height": 298
        }
      },
      "execution_count": null,
      "outputs": [
        {
          "output_type": "execute_result",
          "data": {
            "text/plain": [
              "<AxesSubplot:xlabel='is_match', ylabel='total_VC_prob'>"
            ]
          },
          "metadata": {},
          "execution_count": 66
        },
        {
          "output_type": "display_data",
          "data": {
            "text/plain": [
              "<Figure size 432x288 with 1 Axes>"
            ],
            "image/png": "[encoded data removed]"
          },
          "metadata": {
            "needs_background": "light"
          }
        }
      ]
    },
    {
      "cell_type": "code",
      "source": [
        "sent = '一扇窗户被砖头打碎了。小美移开了那扇'\n",
        "unmasker(sent+'<mask>', top_k=20)"
      ],
      "metadata": {
        "colab": {
          "base_uri": "https://localhost:8080/"
        },
        "id": "-w2UJthKxA7d",
        "outputId": "18291a92-3b35-4265-b581-5877937b2549"
      },
      "execution_count": null,
      "outputs": [
        {
          "output_type": "execute_result",
          "data": {
            "text/plain": [
              "[{'score': 0.5291669964790344,\n",
              "  'token': 30,\n",
              "  'token_str': '。',\n",
              "  'sequence': '一扇窗户被砖头打碎了。小美移开了那扇。'},\n",
              " {'score': 0.2620716094970703,\n",
              "  'token': 230615,\n",
              "  'token_str': '窗户',\n",
              "  'sequence': '一扇窗户被砖头打碎了。小美移开了那扇窗户'},\n",
              " {'score': 0.042259883135557175,\n",
              "  'token': 4,\n",
              "  'token_str': ',',\n",
              "  'sequence': '一扇窗户被砖头打碎了。小美移开了那扇,'},\n",
              " {'score': 0.0368005745112896,\n",
              "  'token': 31271,\n",
              "  'token_str': '窗',\n",
              "  'sequence': '一扇窗户被砖头打碎了。小美移开了那扇窗'},\n",
              " {'score': 0.02050136588513851,\n",
              "  'token': 6349,\n",
              "  'token_str': '门',\n",
              "  'sequence': '一扇窗户被砖头打碎了。小美移开了那扇门'},\n",
              " {'score': 0.017226384952664375,\n",
              "  'token': 5,\n",
              "  'token_str': '.',\n",
              "  'sequence': '一扇窗户被砖头打碎了。小美移开了那扇.'},\n",
              " {'score': 0.015305806882679462,\n",
              "  'token': 2,\n",
              "  'token_str': '</s>',\n",
              "  'sequence': '一扇窗户被砖头打碎了。小美移开了那扇'},\n",
              " {'score': 0.010995295830070972,\n",
              "  'token': 27,\n",
              "  'token_str': '...',\n",
              "  'sequence': '一扇窗户被砖头打碎了。小美移开了那扇...'},\n",
              " {'score': 0.008614880032837391,\n",
              "  'token': 38,\n",
              "  'token_str': '!',\n",
              "  'sequence': '一扇窗户被砖头打碎了。小美移开了那扇!'},\n",
              " {'score': 0.00701333861798048,\n",
              "  'token': 2551,\n",
              "  'token_str': '......',\n",
              "  'sequence': '一扇窗户被砖头打碎了。小美移开了那扇......'},\n",
              " {'score': 0.0023494968190789223,\n",
              "  'token': 1344,\n",
              "  'token_str': '子',\n",
              "  'sequence': '一扇窗户被砖头打碎了。小美移开了那扇子'},\n",
              " {'score': 0.0023433922324329615,\n",
              "  'token': 102597,\n",
              "  'token_str': '扇',\n",
              "  'sequence': '一扇窗户被砖头打碎了。小美移开了那扇扇'},\n",
              " {'score': 0.0022848329972475767,\n",
              "  'token': 12,\n",
              "  'token_str': ':',\n",
              "  'sequence': '一扇窗户被砖头打碎了。小美移开了那扇:'},\n",
              " {'score': 0.0019263355061411858,\n",
              "  'token': 43,\n",
              "  'token_str': '的',\n",
              "  'sequence': '一扇窗户被砖头打碎了。小美移开了那扇的'},\n",
              " {'score': 0.0014589026104658842,\n",
              "  'token': 32,\n",
              "  'token_str': '?',\n",
              "  'sequence': '一扇窗户被砖头打碎了。小美移开了那扇?'},\n",
              " {'score': 0.0013564946129918098,\n",
              "  'token': 74,\n",
              "  'token_str': ';',\n",
              "  'sequence': '一扇窗户被砖头打碎了。小美移开了那扇;'},\n",
              " {'score': 0.0011889514280483127,\n",
              "  'token': 153,\n",
              "  'token_str': '...',\n",
              "  'sequence': '一扇窗户被砖头打碎了。小美移开了那扇...'},\n",
              " {'score': 0.0011663554469123483,\n",
              "  'token': 63444,\n",
              "  'token_str': '墙',\n",
              "  'sequence': '一扇窗户被砖头打碎了。小美移开了那扇墙'},\n",
              " {'score': 0.0011130034690722823,\n",
              "  'token': 48309,\n",
              "  'token_str': '房子',\n",
              "  'sequence': '一扇窗户被砖头打碎了。小美移开了那扇房子'},\n",
              " {'score': 0.001072531333193183,\n",
              "  'token': 53931,\n",
              "  'token_str': '玻璃',\n",
              "  'sequence': '一扇窗户被砖头打碎了。小美移开了那扇玻璃'}]"
            ]
          },
          "metadata": {},
          "execution_count": 11
        }
      ]
    },
    {
      "cell_type": "code",
      "source": [
        "results_VC_df = pd.read_csv('/content/results_VC (1).csv')"
      ],
      "metadata": {
        "id": "DkuoGg5mxPw2"
      },
      "execution_count": null,
      "outputs": []
    },
    {
      "cell_type": "code",
      "source": [
        "results_VC_df"
      ],
      "metadata": {
        "colab": {
          "base_uri": "https://localhost:8080/",
          "height": 505
        },
        "id": "3-X_wL0CAMrI",
        "outputId": "c9fd8094-e9ff-4dab-e5e3-ebcae9de399d"
      },
      "execution_count": null,
      "outputs": [
        {
          "output_type": "execute_result",
          "data": {
            "text/plain": [
              "     Unnamed: 0  item  condition  has_BEI  is_match  total_VC_prob  mean_prob  \\\n",
              "0             0     1          1        1         1       0.104493   0.004750   \n",
              "1             1     1          2        0         1       0.009107   0.001821   \n",
              "2             2     1          3        1         0       0.033382   0.003035   \n",
              "3             3     1          4        0         0       0.001032   0.000344   \n",
              "4             4     2          1        1         1       0.315907   0.009872   \n",
              "..          ...   ...        ...      ...       ...            ...        ...   \n",
              "155         155    39          4        0         0       0.000000   0.000000   \n",
              "156         156    40          1        1         1       0.153845   0.003945   \n",
              "157         157    40          2        0         1       0.000389   0.000389   \n",
              "158         158    40          3        1         0       0.109241   0.004202   \n",
              "159         159    40          4        0         0       0.000306   0.000306   \n",
              "\n",
              "     median_prob  min_prob min_word  max_prob max_word  max_rank  count_n  \n",
              "0       0.002030  0.001063        撞  0.049660        踢         3       22  \n",
              "1       0.001167  0.000938        展  0.003503        踢        37        5  \n",
              "2       0.001344  0.000763        吹  0.014372        踢         9       11  \n",
              "3       0.000236  0.000130        踢  0.000665        架        30        3  \n",
              "4       0.001561  0.000780       跟踪  0.176515        咬         0       32  \n",
              "..           ...       ...      ...       ...      ...       ...      ...  \n",
              "155     0.000000  0.000000        0  0.000000        0         0        0  \n",
              "156     0.001443  0.000629        操  0.077624        咬         2       39  \n",
              "157     0.000389  0.000389      的衣服  0.000389      的衣服        58        1  \n",
              "158     0.001345  0.000728        踢  0.047583        咬         5       26  \n",
              "159     0.000306  0.000306      的衣服  0.000306      的衣服        83        1  \n",
              "\n",
              "[160 rows x 14 columns]"
            ],
            "text/html": [
              "\n",
              "  <div id=\"df-2bfd0c46-d538-44d3-9ebc-3bff50f3d305\">\n",
              "    <div class=\"colab-df-container\">\n",
              "      <div>\n",
              "<style scoped>\n",
              "    .dataframe tbody tr th:only-of-type {\n",
              "        vertical-align: middle;\n",
              "    }\n",
              "\n",
              "    .dataframe tbody tr th {\n",
              "        vertical-align: top;\n",
              "    }\n",
              "\n",
              "    .dataframe thead th {\n",
              "        text-align: right;\n",
              "    }\n",
              "</style>\n",
              "<table border=\"1\" class=\"dataframe\">\n",
              "  <thead>\n",
              "    <tr style=\"text-align: right;\">\n",
              "      <th></th>\n",
              "      <th>Unnamed: 0</th>\n",
              "      <th>item</th>\n",
              "      <th>condition</th>\n",
              "      <th>has_BEI</th>\n",
              "      <th>is_match</th>\n",
              "      <th>total_VC_prob</th>\n",
              "      <th>mean_prob</th>\n",
              "      <th>median_prob</th>\n",
              "      <th>min_prob</th>\n",
              "      <th>min_word</th>\n",
              "      <th>max_prob</th>\n",
              "      <th>max_word</th>\n",
              "      <th>max_rank</th>\n",
              "      <th>count_n</th>\n",
              "    </tr>\n",
              "  </thead>\n",
              "  <tbody>\n",
              "    <tr>\n",
              "      <th>0</th>\n",
              "      <td>0</td>\n",
              "      <td>1</td>\n",
              "      <td>1</td>\n",
              "      <td>1</td>\n",
              "      <td>1</td>\n",
              "      <td>0.104493</td>\n",
              "      <td>0.004750</td>\n",
              "      <td>0.002030</td>\n",
              "      <td>0.001063</td>\n",
              "      <td>撞</td>\n",
              "      <td>0.049660</td>\n",
              "      <td>踢</td>\n",
              "      <td>3</td>\n",
              "      <td>22</td>\n",
              "    </tr>\n",
              "    <tr>\n",
              "      <th>1</th>\n",
              "      <td>1</td>\n",
              "      <td>1</td>\n",
              "      <td>2</td>\n",
              "      <td>0</td>\n",
              "      <td>1</td>\n",
              "      <td>0.009107</td>\n",
              "      <td>0.001821</td>\n",
              "      <td>0.001167</td>\n",
              "      <td>0.000938</td>\n",
              "      <td>展</td>\n",
              "      <td>0.003503</td>\n",
              "      <td>踢</td>\n",
              "      <td>37</td>\n",
              "      <td>5</td>\n",
              "    </tr>\n",
              "    <tr>\n",
              "      <th>2</th>\n",
              "      <td>2</td>\n",
              "      <td>1</td>\n",
              "      <td>3</td>\n",
              "      <td>1</td>\n",
              "      <td>0</td>\n",
              "      <td>0.033382</td>\n",
              "      <td>0.003035</td>\n",
              "      <td>0.001344</td>\n",
              "      <td>0.000763</td>\n",
              "      <td>吹</td>\n",
              "      <td>0.014372</td>\n",
              "      <td>踢</td>\n",
              "      <td>9</td>\n",
              "      <td>11</td>\n",
              "    </tr>\n",
              "    <tr>\n",
              "      <th>3</th>\n",
              "      <td>3</td>\n",
              "      <td>1</td>\n",
              "      <td>4</td>\n",
              "      <td>0</td>\n",
              "      <td>0</td>\n",
              "      <td>0.001032</td>\n",
              "      <td>0.000344</td>\n",
              "      <td>0.000236</td>\n",
              "      <td>0.000130</td>\n",
              "      <td>踢</td>\n",
              "      <td>0.000665</td>\n",
              "      <td>架</td>\n",
              "      <td>30</td>\n",
              "      <td>3</td>\n",
              "    </tr>\n",
              "    <tr>\n",
              "      <th>4</th>\n",
              "      <td>4</td>\n",
              "      <td>2</td>\n",
              "      <td>1</td>\n",
              "      <td>1</td>\n",
              "      <td>1</td>\n",
              "      <td>0.315907</td>\n",
              "      <td>0.009872</td>\n",
              "      <td>0.001561</td>\n",
              "      <td>0.000780</td>\n",
              "      <td>跟踪</td>\n",
              "      <td>0.176515</td>\n",
              "      <td>咬</td>\n",
              "      <td>0</td>\n",
              "      <td>32</td>\n",
              "    </tr>\n",
              "    <tr>\n",
              "      <th>...</th>\n",
              "      <td>...</td>\n",
              "      <td>...</td>\n",
              "      <td>...</td>\n",
              "      <td>...</td>\n",
              "      <td>...</td>\n",
              "      <td>...</td>\n",
              "      <td>...</td>\n",
              "      <td>...</td>\n",
              "      <td>...</td>\n",
              "      <td>...</td>\n",
              "      <td>...</td>\n",
              "      <td>...</td>\n",
              "      <td>...</td>\n",
              "      <td>...</td>\n",
              "    </tr>\n",
              "    <tr>\n",
              "      <th>155</th>\n",
              "      <td>155</td>\n",
              "      <td>39</td>\n",
              "      <td>4</td>\n",
              "      <td>0</td>\n",
              "      <td>0</td>\n",
              "      <td>0.000000</td>\n",
              "      <td>0.000000</td>\n",
              "      <td>0.000000</td>\n",
              "      <td>0.000000</td>\n",
              "      <td>0</td>\n",
              "      <td>0.000000</td>\n",
              "      <td>0</td>\n",
              "      <td>0</td>\n",
              "      <td>0</td>\n",
              "    </tr>\n",
              "    <tr>\n",
              "      <th>156</th>\n",
              "      <td>156</td>\n",
              "      <td>40</td>\n",
              "      <td>1</td>\n",
              "      <td>1</td>\n",
              "      <td>1</td>\n",
              "      <td>0.153845</td>\n",
              "      <td>0.003945</td>\n",
              "      <td>0.001443</td>\n",
              "      <td>0.000629</td>\n",
              "      <td>操</td>\n",
              "      <td>0.077624</td>\n",
              "      <td>咬</td>\n",
              "      <td>2</td>\n",
              "      <td>39</td>\n",
              "    </tr>\n",
              "    <tr>\n",
              "      <th>157</th>\n",
              "      <td>157</td>\n",
              "      <td>40</td>\n",
              "      <td>2</td>\n",
              "      <td>0</td>\n",
              "      <td>1</td>\n",
              "      <td>0.000389</td>\n",
              "      <td>0.000389</td>\n",
              "      <td>0.000389</td>\n",
              "      <td>0.000389</td>\n",
              "      <td>的衣服</td>\n",
              "      <td>0.000389</td>\n",
              "      <td>的衣服</td>\n",
              "      <td>58</td>\n",
              "      <td>1</td>\n",
              "    </tr>\n",
              "    <tr>\n",
              "      <th>158</th>\n",
              "      <td>158</td>\n",
              "      <td>40</td>\n",
              "      <td>3</td>\n",
              "      <td>1</td>\n",
              "      <td>0</td>\n",
              "      <td>0.109241</td>\n",
              "      <td>0.004202</td>\n",
              "      <td>0.001345</td>\n",
              "      <td>0.000728</td>\n",
              "      <td>踢</td>\n",
              "      <td>0.047583</td>\n",
              "      <td>咬</td>\n",
              "      <td>5</td>\n",
              "      <td>26</td>\n",
              "    </tr>\n",
              "    <tr>\n",
              "      <th>159</th>\n",
              "      <td>159</td>\n",
              "      <td>40</td>\n",
              "      <td>4</td>\n",
              "      <td>0</td>\n",
              "      <td>0</td>\n",
              "      <td>0.000306</td>\n",
              "      <td>0.000306</td>\n",
              "      <td>0.000306</td>\n",
              "      <td>0.000306</td>\n",
              "      <td>的衣服</td>\n",
              "      <td>0.000306</td>\n",
              "      <td>的衣服</td>\n",
              "      <td>83</td>\n",
              "      <td>1</td>\n",
              "    </tr>\n",
              "  </tbody>\n",
              "</table>\n",
              "<p>160 rows × 14 columns</p>\n",
              "</div>\n",
              "      <button class=\"colab-df-convert\" onclick=\"convertToInteractive('df-2bfd0c46-d538-44d3-9ebc-3bff50f3d305')\"\n",
              "              title=\"Convert this dataframe to an interactive table.\"\n",
              "              style=\"display:none;\">\n",
              "        \n",
              "  <svg xmlns=\"http://www.w3.org/2000/svg\" height=\"24px\"viewBox=\"0 0 24 24\"\n",
              "       width=\"24px\">\n",
              "    <path d=\"M0 0h24v24H0V0z\" fill=\"none\"/>\n",
              "    <path d=\"M18.56 5.44l.94 2.06.94-2.06 2.06-.94-2.06-.94-.94-2.06-.94 2.06-2.06.94zm-11 1L8.5 8.5l.94-2.06 2.06-.94-2.06-.94L8.5 2.5l-.94 2.06-2.06.94zm10 10l.94 2.06.94-2.06 2.06-.94-2.06-.94-.94-2.06-.94 2.06-2.06.94z\"/><path d=\"M17.41 7.96l-1.37-1.37c-.4-.4-.92-.59-1.43-.59-.52 0-1.04.2-1.43.59L10.3 9.45l-7.72 7.72c-.78.78-.78 2.05 0 2.83L4 21.41c.39.39.9.59 1.41.59.51 0 1.02-.2 1.41-.59l7.78-7.78 2.81-2.81c.8-.78.8-2.07 0-2.86zM5.41 20L4 18.59l7.72-7.72 1.47 1.35L5.41 20z\"/>\n",
              "  </svg>\n",
              "      </button>\n",
              "      \n",
              "  <style>\n",
              "    .colab-df-container {\n",
              "      display:flex;\n",
              "      flex-wrap:wrap;\n",
              "      gap: 12px;\n",
              "    }\n",
              "\n",
              "    .colab-df-convert {\n",
              "      background-color: #E8F0FE;\n",
              "      border: none;\n",
              "      border-radius: 50%;\n",
              "      cursor: pointer;\n",
              "      display: none;\n",
              "      fill: #1967D2;\n",
              "      height: 32px;\n",
              "      padding: 0 0 0 0;\n",
              "      width: 32px;\n",
              "    }\n",
              "\n",
              "    .colab-df-convert:hover {\n",
              "      background-color: #E2EBFA;\n",
              "      box-shadow: 0px 1px 2px rgba(60, 64, 67, 0.3), 0px 1px 3px 1px rgba(60, 64, 67, 0.15);\n",
              "      fill: #174EA6;\n",
              "    }\n",
              "\n",
              "    [theme=dark] .colab-df-convert {\n",
              "      background-color: #3B4455;\n",
              "      fill: #D2E3FC;\n",
              "    }\n",
              "\n",
              "    [theme=dark] .colab-df-convert:hover {\n",
              "      background-color: #434B5C;\n",
              "      box-shadow: 0px 1px 3px 1px rgba(0, 0, 0, 0.15);\n",
              "      filter: drop-shadow(0px 1px 2px rgba(0, 0, 0, 0.3));\n",
              "      fill: #FFFFFF;\n",
              "    }\n",
              "  </style>\n",
              "\n",
              "      <script>\n",
              "        const buttonEl =\n",
              "          document.querySelector('#df-2bfd0c46-d538-44d3-9ebc-3bff50f3d305 button.colab-df-convert');\n",
              "        buttonEl.style.display =\n",
              "          google.colab.kernel.accessAllowed ? 'block' : 'none';\n",
              "\n",
              "        async function convertToInteractive(key) {\n",
              "          const element = document.querySelector('#df-2bfd0c46-d538-44d3-9ebc-3bff50f3d305');\n",
              "          const dataTable =\n",
              "            await google.colab.kernel.invokeFunction('convertToInteractive',\n",
              "                                                     [key], {});\n",
              "          if (!dataTable) return;\n",
              "\n",
              "          const docLinkHtml = 'Like what you see? Visit the ' +\n",
              "            '<a target=\"_blank\" href=https://colab.research.google.com/notebooks/data_table.ipynb>data table notebook</a>'\n",
              "            + ' to learn more about interactive tables.';\n",
              "          element.innerHTML = '';\n",
              "          dataTable['output_type'] = 'display_data';\n",
              "          await google.colab.output.renderOutput(dataTable, element);\n",
              "          const docLink = document.createElement('div');\n",
              "          docLink.innerHTML = docLinkHtml;\n",
              "          element.appendChild(docLink);\n",
              "        }\n",
              "      </script>\n",
              "    </div>\n",
              "  </div>\n",
              "  "
            ]
          },
          "metadata": {},
          "execution_count": 26
        }
      ]
    },
    {
      "cell_type": "code",
      "source": [
        "# calculate surprisal\n",
        "results_VC_df['surprisal'] = -np.log2(results_VC_df['total_VC_prob'])"
      ],
      "metadata": {
        "colab": {
          "base_uri": "https://localhost:8080/"
        },
        "id": "6f1jaLo-ATRl",
        "outputId": "e4c294ca-32b1-4e8a-f706-842c7ba15391"
      },
      "execution_count": null,
      "outputs": [
        {
          "output_type": "stream",
          "name": "stderr",
          "text": [
            "/usr/local/lib/python3.8/dist-packages/pandas/core/arraylike.py:364: RuntimeWarning: divide by zero encountered in log2\n",
            "  result = getattr(ufunc, method)(*inputs, **kwargs)\n"
          ]
        }
      ]
    },
    {
      "cell_type": "code",
      "source": [
        "# set infinite surprisal as 15\n",
        "results_VC_df.loc[results_VC_df['surprisal']== float('inf'), \"surprisal\"] = 15"
      ],
      "metadata": {
        "id": "wyQ2JfVuC3bo"
      },
      "execution_count": null,
      "outputs": []
    },
    {
      "cell_type": "code",
      "source": [
        "sns.histplot(data=results_VC_df, x=\"surprisal\")"
      ],
      "metadata": {
        "colab": {
          "base_uri": "https://localhost:8080/",
          "height": 297
        },
        "id": "nE7d10rCAwkH",
        "outputId": "dea85ded-578e-45a3-83e3-ee8f57e0d80e"
      },
      "execution_count": null,
      "outputs": [
        {
          "output_type": "execute_result",
          "data": {
            "text/plain": [
              "<AxesSubplot:xlabel='surprisal', ylabel='Count'>"
            ]
          },
          "metadata": {},
          "execution_count": 30
        },
        {
          "output_type": "display_data",
          "data": {
            "text/plain": [
              "<Figure size 432x288 with 1 Axes>"
            ],
            "image/png": "[encoded data removed]"
          },
          "metadata": {
            "needs_background": "light"
          }
        }
      ]
    },
    {
      "cell_type": "code",
      "source": [
        "results_VC_df['surprisal'].describe()"
      ],
      "metadata": {
        "colab": {
          "base_uri": "https://localhost:8080/"
        },
        "id": "TSw8qp2HBAte",
        "outputId": "0d8b114b-2801-447b-a420-c5bc490c8dc2"
      },
      "execution_count": null,
      "outputs": [
        {
          "output_type": "execute_result",
          "data": {
            "text/plain": [
              "count    160.000000\n",
              "mean       8.371994\n",
              "std        4.290836\n",
              "min        1.503984\n",
              "25%        4.704214\n",
              "50%        7.797993\n",
              "75%       11.264819\n",
              "max       15.000000\n",
              "Name: surprisal, dtype: float64"
            ]
          },
          "metadata": {},
          "execution_count": 29
        }
      ]
    },
    {
      "cell_type": "code",
      "source": [
        "results_VC_df = pd.read_csv('/content/results_VC (1).csv')"
      ],
      "metadata": {
        "id": "irBRMQEI7dP7"
      },
      "execution_count": null,
      "outputs": []
    },
    {
      "cell_type": "code",
      "source": [
        "# run statistical testing\n",
        "import pandas as pd\n",
        "import statsmodels.api as sm\n",
        "import statsmodels.formula.api as smf\n",
        "\n",
        "results_VC_df['log_prob'] = np.log(results_VC_df['total_VC_prob'])\n",
        "\n",
        "# model = smf.mixedlm(formula='log_prob ~ has_BEI + is_match + has_BEI:is_match', \n",
        "#                     data=results_VC_df,\n",
        "#                     groups=results_VC_df[\"item\"]).fit()\n",
        "\n",
        "model = smf.mixedlm(formula='total_VC_prob ~ has_BEI + is_match + has_BEI:is_match', \n",
        "                    data=results_VC_df,\n",
        "                    groups=results_VC_df[\"item\"]).fit()\n",
        "\n",
        "print_model = model.summary()\n",
        "print(print_model)"
      ],
      "metadata": {
        "colab": {
          "base_uri": "https://localhost:8080/"
        },
        "id": "gFc8TFSN4vXJ",
        "outputId": "5ed78795-e1e4-4be8-c284-7d1d0d0c12cc"
      },
      "execution_count": null,
      "outputs": [
        {
          "output_type": "stream",
          "name": "stderr",
          "text": [
            "/usr/local/lib/python3.8/dist-packages/pandas/core/arraylike.py:364: RuntimeWarning: divide by zero encountered in log\n",
            "  result = getattr(ufunc, method)(*inputs, **kwargs)\n"
          ]
        },
        {
          "output_type": "stream",
          "name": "stdout",
          "text": [
            "           Mixed Linear Model Regression Results\n",
            "===========================================================\n",
            "Model:            MixedLM Dependent Variable: total_VC_prob\n",
            "No. Observations: 160     Method:             REML         \n",
            "No. Groups:       40      Scale:              0.0023       \n",
            "Min. group size:  4       Log-Likelihood:     227.1727     \n",
            "Max. group size:  4       Converged:          Yes          \n",
            "Mean group size:  4.0                                      \n",
            "-----------------------------------------------------------\n",
            "                 Coef.  Std.Err.   z    P>|z| [0.025 0.975]\n",
            "-----------------------------------------------------------\n",
            "Intercept         0.002    0.009  0.251 0.802 -0.015  0.020\n",
            "has_BEI           0.064    0.011  5.910 0.000  0.043  0.085\n",
            "is_match         -0.000    0.011 -0.001 0.999 -0.021  0.021\n",
            "has_BEI:is_match  0.008    0.015  0.517 0.605 -0.022  0.038\n",
            "Group Var         0.001    0.008                           \n",
            "===========================================================\n",
            "\n"
          ]
        },
        {
          "output_type": "stream",
          "name": "stderr",
          "text": [
            "/usr/local/lib/python3.8/dist-packages/statsmodels/regression/mixed_linear_model.py:2237: ConvergenceWarning: The MLE may be on the boundary of the parameter space.\n",
            "  warnings.warn(msg, ConvergenceWarning)\n"
          ]
        }
      ]
    },
    {
      "cell_type": "code",
      "source": [
        "# sns.regplot(data=results_VC, y='total_VC_prob')"
      ],
      "metadata": {
        "id": "Dtopucqh538I"
      },
      "execution_count": 1,
      "outputs": []
    }
  ]
}